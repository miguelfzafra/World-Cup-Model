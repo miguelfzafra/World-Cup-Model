{
 "cells": [
  {
   "cell_type": "markdown",
   "metadata": {},
   "source": [
    "# Información utilizada en el modelo"
   ]
  },
  {
   "cell_type": "markdown",
   "metadata": {},
   "source": [
    "La información que hemos utilizado para elaborar el modelo se encuentra en la tabla `TABLA_MODELO`, que es el resultado del script `0_Obtencion_parseo_datos`."
   ]
  },
  {
   "cell_type": "code",
   "execution_count": 1,
   "metadata": {
    "collapsed": true
   },
   "outputs": [],
   "source": [
    "import pandas as pd\n",
    "import numpy as np"
   ]
  },
  {
   "cell_type": "markdown",
   "metadata": {},
   "source": [
    "## Histórico de partidos"
   ]
  },
  {
   "cell_type": "markdown",
   "metadata": {},
   "source": [
    "En esta tabla tenemos los datos del histórico de partidos entre 2015 y 2018. Cada registro corresponde a un partido con la siguiente información:\n",
    "\n",
    "* Fecha del partido\n",
    "* Equipos\n",
    "* Ranking FIFA de cada equipo en el año en el que se jugó el partido\n",
    "* Resultado\n",
    "* Cuotas previas al partido\n",
    "* Porcentaje de victorias de cada equipo con respecto a equipos en la misma trancha del Ranking FIFA que el adversario.\n",
    "* Estadísticas de Ataque, Media y Defensa extraídas del videojuego FIFA 18\n",
    "\n",
    "Los partidos corresponden a aquellos jugados por equipos que estuvieran en el videojuego FIFA 18, ya que de lo contrario no disponemos de la puntuación."
   ]
  },
  {
   "cell_type": "code",
   "execution_count": 2,
   "metadata": {},
   "outputs": [
    {
     "data": {
      "text/html": [
       "<div>\n",
       "<style>\n",
       "    .dataframe thead tr:only-child th {\n",
       "        text-align: right;\n",
       "    }\n",
       "\n",
       "    .dataframe thead th {\n",
       "        text-align: left;\n",
       "    }\n",
       "\n",
       "    .dataframe tbody tr th {\n",
       "        vertical-align: top;\n",
       "    }\n",
       "</style>\n",
       "<table border=\"1\" class=\"dataframe\">\n",
       "  <thead>\n",
       "    <tr style=\"text-align: right;\">\n",
       "      <th></th>\n",
       "      <th>Dia_Def</th>\n",
       "      <th>ANIO</th>\n",
       "      <th>EQUIPO_1</th>\n",
       "      <th>RANKING_1</th>\n",
       "      <th>RESULTADO_1</th>\n",
       "      <th>QUINIELA_1</th>\n",
       "      <th>EQUIPO_2</th>\n",
       "      <th>RANKING_2</th>\n",
       "      <th>RESULTADO_2</th>\n",
       "      <th>QUINIELA_2</th>\n",
       "      <th>...</th>\n",
       "      <th>DIF_CUOTAS</th>\n",
       "      <th>RESULTADO_CUOTAS</th>\n",
       "      <th>POR_VIC1</th>\n",
       "      <th>POR_VIC2</th>\n",
       "      <th>ATAQUE_1</th>\n",
       "      <th>MEDIO_1</th>\n",
       "      <th>DEFENSA_1</th>\n",
       "      <th>ATAQUE_2</th>\n",
       "      <th>MEDIO_2</th>\n",
       "      <th>DEFENSA_2</th>\n",
       "    </tr>\n",
       "  </thead>\n",
       "  <tbody>\n",
       "    <tr>\n",
       "      <th>0</th>\n",
       "      <td>08.06.2018</td>\n",
       "      <td>2018</td>\n",
       "      <td>ALEMANIA</td>\n",
       "      <td>1</td>\n",
       "      <td>2</td>\n",
       "      <td>1</td>\n",
       "      <td>ARABIA SAUDI</td>\n",
       "      <td>67</td>\n",
       "      <td>1</td>\n",
       "      <td>-1</td>\n",
       "      <td>...</td>\n",
       "      <td>-40.33</td>\n",
       "      <td>1</td>\n",
       "      <td>0.571429</td>\n",
       "      <td>0.000000</td>\n",
       "      <td>85</td>\n",
       "      <td>85</td>\n",
       "      <td>85</td>\n",
       "      <td>71</td>\n",
       "      <td>72</td>\n",
       "      <td>71</td>\n",
       "    </tr>\n",
       "    <tr>\n",
       "      <th>1</th>\n",
       "      <td>02.06.2018</td>\n",
       "      <td>2018</td>\n",
       "      <td>AUSTRIA</td>\n",
       "      <td>26</td>\n",
       "      <td>2</td>\n",
       "      <td>1</td>\n",
       "      <td>ALEMANIA</td>\n",
       "      <td>1</td>\n",
       "      <td>1</td>\n",
       "      <td>-1</td>\n",
       "      <td>...</td>\n",
       "      <td>3.56</td>\n",
       "      <td>-1</td>\n",
       "      <td>0.333333</td>\n",
       "      <td>0.750000</td>\n",
       "      <td>80</td>\n",
       "      <td>77</td>\n",
       "      <td>75</td>\n",
       "      <td>85</td>\n",
       "      <td>85</td>\n",
       "      <td>85</td>\n",
       "    </tr>\n",
       "    <tr>\n",
       "      <th>2</th>\n",
       "      <td>27.03.2018</td>\n",
       "      <td>2018</td>\n",
       "      <td>ALEMANIA</td>\n",
       "      <td>1</td>\n",
       "      <td>0</td>\n",
       "      <td>-1</td>\n",
       "      <td>BRASIL</td>\n",
       "      <td>2</td>\n",
       "      <td>1</td>\n",
       "      <td>1</td>\n",
       "      <td>...</td>\n",
       "      <td>0.58</td>\n",
       "      <td>0</td>\n",
       "      <td>0.166667</td>\n",
       "      <td>0.571429</td>\n",
       "      <td>85</td>\n",
       "      <td>85</td>\n",
       "      <td>85</td>\n",
       "      <td>87</td>\n",
       "      <td>85</td>\n",
       "      <td>86</td>\n",
       "    </tr>\n",
       "    <tr>\n",
       "      <th>3</th>\n",
       "      <td>23.03.2018</td>\n",
       "      <td>2018</td>\n",
       "      <td>ALEMANIA</td>\n",
       "      <td>1</td>\n",
       "      <td>1</td>\n",
       "      <td>0</td>\n",
       "      <td>ESPANIA</td>\n",
       "      <td>10</td>\n",
       "      <td>1</td>\n",
       "      <td>0</td>\n",
       "      <td>...</td>\n",
       "      <td>-1.10</td>\n",
       "      <td>0</td>\n",
       "      <td>0.166667</td>\n",
       "      <td>0.428571</td>\n",
       "      <td>85</td>\n",
       "      <td>85</td>\n",
       "      <td>85</td>\n",
       "      <td>84</td>\n",
       "      <td>86</td>\n",
       "      <td>85</td>\n",
       "    </tr>\n",
       "    <tr>\n",
       "      <th>4</th>\n",
       "      <td>03.06.2018</td>\n",
       "      <td>2018</td>\n",
       "      <td>ARABIA SAUDI</td>\n",
       "      <td>67</td>\n",
       "      <td>0</td>\n",
       "      <td>-1</td>\n",
       "      <td>PERU</td>\n",
       "      <td>11</td>\n",
       "      <td>3</td>\n",
       "      <td>1</td>\n",
       "      <td>...</td>\n",
       "      <td>4.53</td>\n",
       "      <td>-1</td>\n",
       "      <td>0.000000</td>\n",
       "      <td>0.571429</td>\n",
       "      <td>71</td>\n",
       "      <td>72</td>\n",
       "      <td>71</td>\n",
       "      <td>77</td>\n",
       "      <td>76</td>\n",
       "      <td>74</td>\n",
       "    </tr>\n",
       "  </tbody>\n",
       "</table>\n",
       "<p>5 rows × 25 columns</p>\n",
       "</div>"
      ],
      "text/plain": [
       "      Dia_Def  ANIO      EQUIPO_1  RANKING_1  RESULTADO_1  QUINIELA_1  \\\n",
       "0  08.06.2018  2018      ALEMANIA          1            2           1   \n",
       "1  02.06.2018  2018       AUSTRIA         26            2           1   \n",
       "2  27.03.2018  2018      ALEMANIA          1            0          -1   \n",
       "3  23.03.2018  2018      ALEMANIA          1            1           0   \n",
       "4  03.06.2018  2018  ARABIA SAUDI         67            0          -1   \n",
       "\n",
       "       EQUIPO_2  RANKING_2  RESULTADO_2  QUINIELA_2    ...      DIF_CUOTAS  \\\n",
       "0  ARABIA SAUDI         67            1          -1    ...          -40.33   \n",
       "1      ALEMANIA          1            1          -1    ...            3.56   \n",
       "2        BRASIL          2            1           1    ...            0.58   \n",
       "3       ESPANIA         10            1           0    ...           -1.10   \n",
       "4          PERU         11            3           1    ...            4.53   \n",
       "\n",
       "   RESULTADO_CUOTAS  POR_VIC1  POR_VIC2  ATAQUE_1  MEDIO_1  DEFENSA_1  \\\n",
       "0                 1  0.571429  0.000000        85       85         85   \n",
       "1                -1  0.333333  0.750000        80       77         75   \n",
       "2                 0  0.166667  0.571429        85       85         85   \n",
       "3                 0  0.166667  0.428571        85       85         85   \n",
       "4                -1  0.000000  0.571429        71       72         71   \n",
       "\n",
       "   ATAQUE_2  MEDIO_2  DEFENSA_2  \n",
       "0        71       72         71  \n",
       "1        85       85         85  \n",
       "2        87       85         86  \n",
       "3        84       86         85  \n",
       "4        77       76         74  \n",
       "\n",
       "[5 rows x 25 columns]"
      ]
     },
     "execution_count": 2,
     "metadata": {},
     "output_type": "execute_result"
    }
   ],
   "source": [
    "tabla_modelo = pd.read_excel('TABLA_MODELO.xlsx', sheetname='PLANTILLA')\n",
    "tabla_modelo.head()"
   ]
  },
  {
   "cell_type": "code",
   "execution_count": 3,
   "metadata": {},
   "outputs": [
    {
     "data": {
      "text/plain": [
       "658"
      ]
     },
     "execution_count": 3,
     "metadata": {},
     "output_type": "execute_result"
    }
   ],
   "source": [
    "len(tabla_modelo)"
   ]
  },
  {
   "cell_type": "code",
   "execution_count": 4,
   "metadata": {},
   "outputs": [
    {
     "data": {
      "text/plain": [
       "Index(['Dia_Def', 'ANIO', 'EQUIPO_1', 'RANKING_1', 'RESULTADO_1', 'QUINIELA_1',\n",
       "       'EQUIPO_2', 'RANKING_2', 'RESULTADO_2', 'QUINIELA_2', 'CUOTA1',\n",
       "       'CUOTA0', 'CUOTA2', 'TRANCHA_1', 'TRANCHA_2', 'DIF_CUOTAS',\n",
       "       'RESULTADO_CUOTAS', 'POR_VIC1', 'POR_VIC2', 'ATAQUE_1', 'MEDIO_1',\n",
       "       'DEFENSA_1', 'ATAQUE_2', 'MEDIO_2', 'DEFENSA_2'],\n",
       "      dtype='object')"
      ]
     },
     "execution_count": 4,
     "metadata": {},
     "output_type": "execute_result"
    }
   ],
   "source": [
    "tabla_modelo.columns"
   ]
  },
  {
   "cell_type": "markdown",
   "metadata": {},
   "source": [
    "## Puntuaciones de cada equipo (FIFA 18)\n",
    "\n",
    "Esta información ya se encuentra pegada en el histórico de partidos, aunque se necesitará en ciertas ocasiones:"
   ]
  },
  {
   "cell_type": "code",
   "execution_count": 5,
   "metadata": {
    "collapsed": true
   },
   "outputs": [],
   "source": [
    "puntuaciones_fifa = pd.read_excel('T1_FIFA_Puntuaciones.xlsx')"
   ]
  },
  {
   "cell_type": "code",
   "execution_count": 6,
   "metadata": {},
   "outputs": [
    {
     "data": {
      "text/html": [
       "<div>\n",
       "<style>\n",
       "    .dataframe thead tr:only-child th {\n",
       "        text-align: right;\n",
       "    }\n",
       "\n",
       "    .dataframe thead th {\n",
       "        text-align: left;\n",
       "    }\n",
       "\n",
       "    .dataframe tbody tr th {\n",
       "        vertical-align: top;\n",
       "    }\n",
       "</style>\n",
       "<table border=\"1\" class=\"dataframe\">\n",
       "  <thead>\n",
       "    <tr style=\"text-align: right;\">\n",
       "      <th></th>\n",
       "      <th>Country</th>\n",
       "      <th>Punt_Ataque</th>\n",
       "      <th>Punt_Med</th>\n",
       "      <th>Punt_Def</th>\n",
       "    </tr>\n",
       "  </thead>\n",
       "  <tbody>\n",
       "    <tr>\n",
       "      <th>0</th>\n",
       "      <td>ALEMANIA</td>\n",
       "      <td>85</td>\n",
       "      <td>85</td>\n",
       "      <td>85</td>\n",
       "    </tr>\n",
       "    <tr>\n",
       "      <th>1</th>\n",
       "      <td>ARABIA SAUDI</td>\n",
       "      <td>71</td>\n",
       "      <td>72</td>\n",
       "      <td>71</td>\n",
       "    </tr>\n",
       "    <tr>\n",
       "      <th>2</th>\n",
       "      <td>ARGENTINA</td>\n",
       "      <td>86</td>\n",
       "      <td>83</td>\n",
       "      <td>81</td>\n",
       "    </tr>\n",
       "    <tr>\n",
       "      <th>3</th>\n",
       "      <td>AUSTRALIA</td>\n",
       "      <td>69</td>\n",
       "      <td>72</td>\n",
       "      <td>71</td>\n",
       "    </tr>\n",
       "    <tr>\n",
       "      <th>4</th>\n",
       "      <td>AUSTRIA</td>\n",
       "      <td>80</td>\n",
       "      <td>77</td>\n",
       "      <td>75</td>\n",
       "    </tr>\n",
       "  </tbody>\n",
       "</table>\n",
       "</div>"
      ],
      "text/plain": [
       "        Country  Punt_Ataque  Punt_Med  Punt_Def\n",
       "0      ALEMANIA           85        85        85\n",
       "1  ARABIA SAUDI           71        72        71\n",
       "2     ARGENTINA           86        83        81\n",
       "3     AUSTRALIA           69        72        71\n",
       "4       AUSTRIA           80        77        75"
      ]
     },
     "execution_count": 6,
     "metadata": {},
     "output_type": "execute_result"
    }
   ],
   "source": [
    "puntuaciones_fifa.head()"
   ]
  },
  {
   "cell_type": "markdown",
   "metadata": {},
   "source": [
    "## Ranking FIFA\n",
    "\n",
    "En esta tabla tenemos el ranking FIFA de cada selección en cada año desde 2015 hasta 2018."
   ]
  },
  {
   "cell_type": "code",
   "execution_count": 8,
   "metadata": {},
   "outputs": [
    {
     "data": {
      "text/html": [
       "<div>\n",
       "<style>\n",
       "    .dataframe thead tr:only-child th {\n",
       "        text-align: right;\n",
       "    }\n",
       "\n",
       "    .dataframe thead th {\n",
       "        text-align: left;\n",
       "    }\n",
       "\n",
       "    .dataframe tbody tr th {\n",
       "        vertical-align: top;\n",
       "    }\n",
       "</style>\n",
       "<table border=\"1\" class=\"dataframe\">\n",
       "  <thead>\n",
       "    <tr style=\"text-align: right;\">\n",
       "      <th></th>\n",
       "      <th>PUESTO</th>\n",
       "      <th>EQUIPO</th>\n",
       "      <th>ANIO</th>\n",
       "    </tr>\n",
       "  </thead>\n",
       "  <tbody>\n",
       "    <tr>\n",
       "      <th>0</th>\n",
       "      <td>1</td>\n",
       "      <td>ALEMANIA</td>\n",
       "      <td>2018</td>\n",
       "    </tr>\n",
       "    <tr>\n",
       "      <th>1</th>\n",
       "      <td>2</td>\n",
       "      <td>BRASIL</td>\n",
       "      <td>2018</td>\n",
       "    </tr>\n",
       "    <tr>\n",
       "      <th>2</th>\n",
       "      <td>3</td>\n",
       "      <td>BELGICA</td>\n",
       "      <td>2018</td>\n",
       "    </tr>\n",
       "    <tr>\n",
       "      <th>3</th>\n",
       "      <td>4</td>\n",
       "      <td>PORTUGAL</td>\n",
       "      <td>2018</td>\n",
       "    </tr>\n",
       "    <tr>\n",
       "      <th>4</th>\n",
       "      <td>5</td>\n",
       "      <td>ARGENTINA</td>\n",
       "      <td>2018</td>\n",
       "    </tr>\n",
       "  </tbody>\n",
       "</table>\n",
       "</div>"
      ],
      "text/plain": [
       "   PUESTO     EQUIPO  ANIO\n",
       "0       1   ALEMANIA  2018\n",
       "1       2     BRASIL  2018\n",
       "2       3    BELGICA  2018\n",
       "3       4   PORTUGAL  2018\n",
       "4       5  ARGENTINA  2018"
      ]
     },
     "execution_count": 8,
     "metadata": {},
     "output_type": "execute_result"
    }
   ],
   "source": [
    "ranking = pd.read_excel('RANKING_FIFA.xlsx')\n",
    "ranking.head()"
   ]
  }
 ],
 "metadata": {
  "kernelspec": {
   "display_name": "Python 3",
   "language": "python",
   "name": "python3"
  },
  "language_info": {
   "codemirror_mode": {
    "name": "ipython",
    "version": 3
   },
   "file_extension": ".py",
   "mimetype": "text/x-python",
   "name": "python",
   "nbconvert_exporter": "python",
   "pygments_lexer": "ipython3",
   "version": "3.6.3"
  }
 },
 "nbformat": 4,
 "nbformat_minor": 2
}
