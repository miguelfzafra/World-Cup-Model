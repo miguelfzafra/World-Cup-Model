{
 "cells": [
  {
   "cell_type": "markdown",
   "metadata": {},
   "source": [
    "# Tratamiento de datos para la generación de la tabla de características de un partido"
   ]
  },
  {
   "cell_type": "markdown",
   "metadata": {},
   "source": [
    "En este notebook se realiza un tratamiento de los datos para poder generar la tabla de características a la hora de predecir un partido."
   ]
  },
  {
   "cell_type": "code",
   "execution_count": 1,
   "metadata": {
    "collapsed": true
   },
   "outputs": [],
   "source": [
    "import pandas as pd\n",
    "import numpy as np"
   ]
  },
  {
   "cell_type": "code",
   "execution_count": 2,
   "metadata": {
    "collapsed": true
   },
   "outputs": [],
   "source": [
    "# Importamos archivo puntuaciones FIFA\n",
    "\n",
    "punt_fifa = pd.read_excel('T1_Fifa_Puntuaciones.xlsx')"
   ]
  },
  {
   "cell_type": "code",
   "execution_count": 3,
   "metadata": {},
   "outputs": [
    {
     "data": {
      "text/html": [
       "<div>\n",
       "<style>\n",
       "    .dataframe thead tr:only-child th {\n",
       "        text-align: right;\n",
       "    }\n",
       "\n",
       "    .dataframe thead th {\n",
       "        text-align: left;\n",
       "    }\n",
       "\n",
       "    .dataframe tbody tr th {\n",
       "        vertical-align: top;\n",
       "    }\n",
       "</style>\n",
       "<table border=\"1\" class=\"dataframe\">\n",
       "  <thead>\n",
       "    <tr style=\"text-align: right;\">\n",
       "      <th></th>\n",
       "      <th>Country</th>\n",
       "      <th>Punt_Ataque</th>\n",
       "      <th>Punt_Med</th>\n",
       "      <th>Punt_Def</th>\n",
       "    </tr>\n",
       "  </thead>\n",
       "  <tbody>\n",
       "    <tr>\n",
       "      <th>0</th>\n",
       "      <td>ALEMANIA</td>\n",
       "      <td>85</td>\n",
       "      <td>85</td>\n",
       "      <td>85</td>\n",
       "    </tr>\n",
       "    <tr>\n",
       "      <th>1</th>\n",
       "      <td>ARABIA SAUDI</td>\n",
       "      <td>71</td>\n",
       "      <td>72</td>\n",
       "      <td>71</td>\n",
       "    </tr>\n",
       "    <tr>\n",
       "      <th>2</th>\n",
       "      <td>ARGENTINA</td>\n",
       "      <td>86</td>\n",
       "      <td>83</td>\n",
       "      <td>81</td>\n",
       "    </tr>\n",
       "    <tr>\n",
       "      <th>3</th>\n",
       "      <td>AUSTRALIA</td>\n",
       "      <td>69</td>\n",
       "      <td>72</td>\n",
       "      <td>71</td>\n",
       "    </tr>\n",
       "    <tr>\n",
       "      <th>4</th>\n",
       "      <td>AUSTRIA</td>\n",
       "      <td>80</td>\n",
       "      <td>77</td>\n",
       "      <td>75</td>\n",
       "    </tr>\n",
       "  </tbody>\n",
       "</table>\n",
       "</div>"
      ],
      "text/plain": [
       "        Country  Punt_Ataque  Punt_Med  Punt_Def\n",
       "0      ALEMANIA           85        85        85\n",
       "1  ARABIA SAUDI           71        72        71\n",
       "2     ARGENTINA           86        83        81\n",
       "3     AUSTRALIA           69        72        71\n",
       "4       AUSTRIA           80        77        75"
      ]
     },
     "execution_count": 3,
     "metadata": {},
     "output_type": "execute_result"
    }
   ],
   "source": [
    "punt_fifa.head()"
   ]
  },
  {
   "cell_type": "code",
   "execution_count": 4,
   "metadata": {
    "collapsed": true
   },
   "outputs": [],
   "source": [
    "# Creamos campo media de equipo\n",
    "\n",
    "punt_fifa['Punt_Media_Eq'] = (punt_fifa['Punt_Ataque'] + punt_fifa['Punt_Med'] + punt_fifa['Punt_Def'])/3"
   ]
  },
  {
   "cell_type": "code",
   "execution_count": 5,
   "metadata": {},
   "outputs": [
    {
     "data": {
      "text/html": [
       "<div>\n",
       "<style>\n",
       "    .dataframe thead tr:only-child th {\n",
       "        text-align: right;\n",
       "    }\n",
       "\n",
       "    .dataframe thead th {\n",
       "        text-align: left;\n",
       "    }\n",
       "\n",
       "    .dataframe tbody tr th {\n",
       "        vertical-align: top;\n",
       "    }\n",
       "</style>\n",
       "<table border=\"1\" class=\"dataframe\">\n",
       "  <thead>\n",
       "    <tr style=\"text-align: right;\">\n",
       "      <th></th>\n",
       "      <th>Country</th>\n",
       "      <th>Punt_Ataque</th>\n",
       "      <th>Punt_Med</th>\n",
       "      <th>Punt_Def</th>\n",
       "      <th>Punt_Media_Eq</th>\n",
       "    </tr>\n",
       "  </thead>\n",
       "  <tbody>\n",
       "    <tr>\n",
       "      <th>0</th>\n",
       "      <td>ALEMANIA</td>\n",
       "      <td>85</td>\n",
       "      <td>85</td>\n",
       "      <td>85</td>\n",
       "      <td>85.000000</td>\n",
       "    </tr>\n",
       "    <tr>\n",
       "      <th>1</th>\n",
       "      <td>ARABIA SAUDI</td>\n",
       "      <td>71</td>\n",
       "      <td>72</td>\n",
       "      <td>71</td>\n",
       "      <td>71.333333</td>\n",
       "    </tr>\n",
       "    <tr>\n",
       "      <th>2</th>\n",
       "      <td>ARGENTINA</td>\n",
       "      <td>86</td>\n",
       "      <td>83</td>\n",
       "      <td>81</td>\n",
       "      <td>83.333333</td>\n",
       "    </tr>\n",
       "    <tr>\n",
       "      <th>3</th>\n",
       "      <td>AUSTRALIA</td>\n",
       "      <td>69</td>\n",
       "      <td>72</td>\n",
       "      <td>71</td>\n",
       "      <td>70.666667</td>\n",
       "    </tr>\n",
       "    <tr>\n",
       "      <th>4</th>\n",
       "      <td>AUSTRIA</td>\n",
       "      <td>80</td>\n",
       "      <td>77</td>\n",
       "      <td>75</td>\n",
       "      <td>77.333333</td>\n",
       "    </tr>\n",
       "  </tbody>\n",
       "</table>\n",
       "</div>"
      ],
      "text/plain": [
       "        Country  Punt_Ataque  Punt_Med  Punt_Def  Punt_Media_Eq\n",
       "0      ALEMANIA           85        85        85      85.000000\n",
       "1  ARABIA SAUDI           71        72        71      71.333333\n",
       "2     ARGENTINA           86        83        81      83.333333\n",
       "3     AUSTRALIA           69        72        71      70.666667\n",
       "4       AUSTRIA           80        77        75      77.333333"
      ]
     },
     "execution_count": 5,
     "metadata": {},
     "output_type": "execute_result"
    }
   ],
   "source": [
    "punt_fifa.head()"
   ]
  },
  {
   "cell_type": "code",
   "execution_count": 6,
   "metadata": {},
   "outputs": [
    {
     "data": {
      "text/plain": [
       "61"
      ]
     },
     "execution_count": 6,
     "metadata": {},
     "output_type": "execute_result"
    }
   ],
   "source": [
    "len(punt_fifa)"
   ]
  },
  {
   "cell_type": "code",
   "execution_count": 7,
   "metadata": {
    "collapsed": true
   },
   "outputs": [],
   "source": [
    "# Importamos tabla ranking FIFA\n",
    "\n",
    "ranking_fifa = pd.read_excel('RANKING_FIFA.xlsx', sheetname='2018')"
   ]
  },
  {
   "cell_type": "code",
   "execution_count": 8,
   "metadata": {},
   "outputs": [
    {
     "data": {
      "text/html": [
       "<div>\n",
       "<style>\n",
       "    .dataframe thead tr:only-child th {\n",
       "        text-align: right;\n",
       "    }\n",
       "\n",
       "    .dataframe thead th {\n",
       "        text-align: left;\n",
       "    }\n",
       "\n",
       "    .dataframe tbody tr th {\n",
       "        vertical-align: top;\n",
       "    }\n",
       "</style>\n",
       "<table border=\"1\" class=\"dataframe\">\n",
       "  <thead>\n",
       "    <tr style=\"text-align: right;\">\n",
       "      <th></th>\n",
       "      <th>EQUIPO</th>\n",
       "      <th>RANKING_FIFA</th>\n",
       "    </tr>\n",
       "  </thead>\n",
       "  <tbody>\n",
       "    <tr>\n",
       "      <th>0</th>\n",
       "      <td>ALEMANIA</td>\n",
       "      <td>1</td>\n",
       "    </tr>\n",
       "    <tr>\n",
       "      <th>1</th>\n",
       "      <td>BRASIL</td>\n",
       "      <td>2</td>\n",
       "    </tr>\n",
       "    <tr>\n",
       "      <th>2</th>\n",
       "      <td>BELGICA</td>\n",
       "      <td>3</td>\n",
       "    </tr>\n",
       "    <tr>\n",
       "      <th>3</th>\n",
       "      <td>PORTUGAL</td>\n",
       "      <td>4</td>\n",
       "    </tr>\n",
       "    <tr>\n",
       "      <th>4</th>\n",
       "      <td>ARGENTINA</td>\n",
       "      <td>5</td>\n",
       "    </tr>\n",
       "  </tbody>\n",
       "</table>\n",
       "</div>"
      ],
      "text/plain": [
       "      EQUIPO  RANKING_FIFA\n",
       "0   ALEMANIA             1\n",
       "1     BRASIL             2\n",
       "2    BELGICA             3\n",
       "3   PORTUGAL             4\n",
       "4  ARGENTINA             5"
      ]
     },
     "execution_count": 8,
     "metadata": {},
     "output_type": "execute_result"
    }
   ],
   "source": [
    "ranking_fifa.head()"
   ]
  },
  {
   "cell_type": "code",
   "execution_count": 9,
   "metadata": {
    "collapsed": true
   },
   "outputs": [],
   "source": [
    "# Cruzamos\n",
    "\n",
    "df1 = punt_fifa.merge(ranking_fifa, left_on='Country', right_on='EQUIPO', how='inner')"
   ]
  },
  {
   "cell_type": "code",
   "execution_count": 10,
   "metadata": {},
   "outputs": [
    {
     "data": {
      "text/plain": [
       "61"
      ]
     },
     "execution_count": 10,
     "metadata": {},
     "output_type": "execute_result"
    }
   ],
   "source": [
    "len(df1)"
   ]
  },
  {
   "cell_type": "code",
   "execution_count": 11,
   "metadata": {
    "scrolled": false
   },
   "outputs": [
    {
     "data": {
      "text/html": [
       "<div>\n",
       "<style>\n",
       "    .dataframe thead tr:only-child th {\n",
       "        text-align: right;\n",
       "    }\n",
       "\n",
       "    .dataframe thead th {\n",
       "        text-align: left;\n",
       "    }\n",
       "\n",
       "    .dataframe tbody tr th {\n",
       "        vertical-align: top;\n",
       "    }\n",
       "</style>\n",
       "<table border=\"1\" class=\"dataframe\">\n",
       "  <thead>\n",
       "    <tr style=\"text-align: right;\">\n",
       "      <th></th>\n",
       "      <th>Country</th>\n",
       "      <th>Punt_Ataque</th>\n",
       "      <th>Punt_Med</th>\n",
       "      <th>Punt_Def</th>\n",
       "      <th>Punt_Media_Eq</th>\n",
       "      <th>EQUIPO</th>\n",
       "      <th>RANKING_FIFA</th>\n",
       "    </tr>\n",
       "  </thead>\n",
       "  <tbody>\n",
       "    <tr>\n",
       "      <th>0</th>\n",
       "      <td>ALEMANIA</td>\n",
       "      <td>85</td>\n",
       "      <td>85</td>\n",
       "      <td>85</td>\n",
       "      <td>85.000000</td>\n",
       "      <td>ALEMANIA</td>\n",
       "      <td>1</td>\n",
       "    </tr>\n",
       "    <tr>\n",
       "      <th>1</th>\n",
       "      <td>ARABIA SAUDI</td>\n",
       "      <td>71</td>\n",
       "      <td>72</td>\n",
       "      <td>71</td>\n",
       "      <td>71.333333</td>\n",
       "      <td>ARABIA SAUDI</td>\n",
       "      <td>67</td>\n",
       "    </tr>\n",
       "    <tr>\n",
       "      <th>2</th>\n",
       "      <td>ARGENTINA</td>\n",
       "      <td>86</td>\n",
       "      <td>83</td>\n",
       "      <td>81</td>\n",
       "      <td>83.333333</td>\n",
       "      <td>ARGENTINA</td>\n",
       "      <td>5</td>\n",
       "    </tr>\n",
       "    <tr>\n",
       "      <th>3</th>\n",
       "      <td>AUSTRALIA</td>\n",
       "      <td>69</td>\n",
       "      <td>72</td>\n",
       "      <td>71</td>\n",
       "      <td>70.666667</td>\n",
       "      <td>AUSTRALIA</td>\n",
       "      <td>36</td>\n",
       "    </tr>\n",
       "    <tr>\n",
       "      <th>4</th>\n",
       "      <td>AUSTRIA</td>\n",
       "      <td>80</td>\n",
       "      <td>77</td>\n",
       "      <td>75</td>\n",
       "      <td>77.333333</td>\n",
       "      <td>AUSTRIA</td>\n",
       "      <td>26</td>\n",
       "    </tr>\n",
       "  </tbody>\n",
       "</table>\n",
       "</div>"
      ],
      "text/plain": [
       "        Country  Punt_Ataque  Punt_Med  Punt_Def  Punt_Media_Eq        EQUIPO  \\\n",
       "0      ALEMANIA           85        85        85      85.000000      ALEMANIA   \n",
       "1  ARABIA SAUDI           71        72        71      71.333333  ARABIA SAUDI   \n",
       "2     ARGENTINA           86        83        81      83.333333     ARGENTINA   \n",
       "3     AUSTRALIA           69        72        71      70.666667     AUSTRALIA   \n",
       "4       AUSTRIA           80        77        75      77.333333       AUSTRIA   \n",
       "\n",
       "   RANKING_FIFA  \n",
       "0             1  \n",
       "1            67  \n",
       "2             5  \n",
       "3            36  \n",
       "4            26  "
      ]
     },
     "execution_count": 11,
     "metadata": {},
     "output_type": "execute_result"
    }
   ],
   "source": [
    "df1.head()"
   ]
  },
  {
   "cell_type": "code",
   "execution_count": 139,
   "metadata": {
    "collapsed": true
   },
   "outputs": [],
   "source": [
    "df1.to_excel('df1.xlsx')"
   ]
  },
  {
   "cell_type": "code",
   "execution_count": 12,
   "metadata": {
    "collapsed": true
   },
   "outputs": [],
   "source": [
    "# Importamos la información de tranchas del ranking\n",
    "\n",
    "tranchas = pd.read_excel('PORCEN_TRANCHAS.xlsx')"
   ]
  },
  {
   "cell_type": "code",
   "execution_count": 13,
   "metadata": {},
   "outputs": [
    {
     "data": {
      "text/html": [
       "<div>\n",
       "<style>\n",
       "    .dataframe thead tr:only-child th {\n",
       "        text-align: right;\n",
       "    }\n",
       "\n",
       "    .dataframe thead th {\n",
       "        text-align: left;\n",
       "    }\n",
       "\n",
       "    .dataframe tbody tr th {\n",
       "        vertical-align: top;\n",
       "    }\n",
       "</style>\n",
       "<table border=\"1\" class=\"dataframe\">\n",
       "  <thead>\n",
       "    <tr style=\"text-align: right;\">\n",
       "      <th></th>\n",
       "      <th>EQUIPO</th>\n",
       "      <th>TRANCHA</th>\n",
       "      <th>-1</th>\n",
       "      <th>0</th>\n",
       "      <th>1</th>\n",
       "      <th>POR_VIC</th>\n",
       "    </tr>\n",
       "  </thead>\n",
       "  <tbody>\n",
       "    <tr>\n",
       "      <th>0</th>\n",
       "      <td>ALEMANIA</td>\n",
       "      <td>1</td>\n",
       "      <td>2</td>\n",
       "      <td>3</td>\n",
       "      <td>1.0</td>\n",
       "      <td>0.166667</td>\n",
       "    </tr>\n",
       "    <tr>\n",
       "      <th>1</th>\n",
       "      <td>ALEMANIA</td>\n",
       "      <td>2</td>\n",
       "      <td>2</td>\n",
       "      <td>3</td>\n",
       "      <td>5.0</td>\n",
       "      <td>0.500000</td>\n",
       "    </tr>\n",
       "    <tr>\n",
       "      <th>2</th>\n",
       "      <td>ALEMANIA</td>\n",
       "      <td>3</td>\n",
       "      <td>2</td>\n",
       "      <td>1</td>\n",
       "      <td>9.0</td>\n",
       "      <td>0.750000</td>\n",
       "    </tr>\n",
       "    <tr>\n",
       "      <th>3</th>\n",
       "      <td>ALEMANIA</td>\n",
       "      <td>4</td>\n",
       "      <td>1</td>\n",
       "      <td>2</td>\n",
       "      <td>4.0</td>\n",
       "      <td>0.571429</td>\n",
       "    </tr>\n",
       "    <tr>\n",
       "      <th>4</th>\n",
       "      <td>ALEMANIA</td>\n",
       "      <td>5</td>\n",
       "      <td>0</td>\n",
       "      <td>0</td>\n",
       "      <td>0.0</td>\n",
       "      <td>0.000000</td>\n",
       "    </tr>\n",
       "  </tbody>\n",
       "</table>\n",
       "</div>"
      ],
      "text/plain": [
       "     EQUIPO  TRANCHA  -1  0    1   POR_VIC\n",
       "0  ALEMANIA        1   2  3  1.0  0.166667\n",
       "1  ALEMANIA        2   2  3  5.0  0.500000\n",
       "2  ALEMANIA        3   2  1  9.0  0.750000\n",
       "3  ALEMANIA        4   1  2  4.0  0.571429\n",
       "4  ALEMANIA        5   0  0  0.0  0.000000"
      ]
     },
     "execution_count": 13,
     "metadata": {},
     "output_type": "execute_result"
    }
   ],
   "source": [
    "tranchas.head()"
   ]
  },
  {
   "cell_type": "code",
   "execution_count": 14,
   "metadata": {
    "collapsed": true
   },
   "outputs": [],
   "source": [
    "# Le pegamos el ranking\n",
    "\n",
    "tranchas_2 = tranchas.merge(ranking_fifa, left_on='EQUIPO', right_on='EQUIPO', how='left')"
   ]
  },
  {
   "cell_type": "code",
   "execution_count": 15,
   "metadata": {},
   "outputs": [
    {
     "data": {
      "text/html": [
       "<div>\n",
       "<style>\n",
       "    .dataframe thead tr:only-child th {\n",
       "        text-align: right;\n",
       "    }\n",
       "\n",
       "    .dataframe thead th {\n",
       "        text-align: left;\n",
       "    }\n",
       "\n",
       "    .dataframe tbody tr th {\n",
       "        vertical-align: top;\n",
       "    }\n",
       "</style>\n",
       "<table border=\"1\" class=\"dataframe\">\n",
       "  <thead>\n",
       "    <tr style=\"text-align: right;\">\n",
       "      <th></th>\n",
       "      <th>EQUIPO</th>\n",
       "      <th>TRANCHA</th>\n",
       "      <th>-1</th>\n",
       "      <th>0</th>\n",
       "      <th>1</th>\n",
       "      <th>POR_VIC</th>\n",
       "      <th>RANKING_FIFA</th>\n",
       "    </tr>\n",
       "  </thead>\n",
       "  <tbody>\n",
       "    <tr>\n",
       "      <th>0</th>\n",
       "      <td>ALEMANIA</td>\n",
       "      <td>1</td>\n",
       "      <td>2</td>\n",
       "      <td>3</td>\n",
       "      <td>1.0</td>\n",
       "      <td>0.166667</td>\n",
       "      <td>1</td>\n",
       "    </tr>\n",
       "    <tr>\n",
       "      <th>1</th>\n",
       "      <td>ALEMANIA</td>\n",
       "      <td>2</td>\n",
       "      <td>2</td>\n",
       "      <td>3</td>\n",
       "      <td>5.0</td>\n",
       "      <td>0.500000</td>\n",
       "      <td>1</td>\n",
       "    </tr>\n",
       "    <tr>\n",
       "      <th>2</th>\n",
       "      <td>ALEMANIA</td>\n",
       "      <td>3</td>\n",
       "      <td>2</td>\n",
       "      <td>1</td>\n",
       "      <td>9.0</td>\n",
       "      <td>0.750000</td>\n",
       "      <td>1</td>\n",
       "    </tr>\n",
       "    <tr>\n",
       "      <th>3</th>\n",
       "      <td>ALEMANIA</td>\n",
       "      <td>4</td>\n",
       "      <td>1</td>\n",
       "      <td>2</td>\n",
       "      <td>4.0</td>\n",
       "      <td>0.571429</td>\n",
       "      <td>1</td>\n",
       "    </tr>\n",
       "    <tr>\n",
       "      <th>4</th>\n",
       "      <td>ALEMANIA</td>\n",
       "      <td>5</td>\n",
       "      <td>0</td>\n",
       "      <td>0</td>\n",
       "      <td>0.0</td>\n",
       "      <td>0.000000</td>\n",
       "      <td>1</td>\n",
       "    </tr>\n",
       "  </tbody>\n",
       "</table>\n",
       "</div>"
      ],
      "text/plain": [
       "     EQUIPO  TRANCHA  -1  0    1   POR_VIC  RANKING_FIFA\n",
       "0  ALEMANIA        1   2  3  1.0  0.166667             1\n",
       "1  ALEMANIA        2   2  3  5.0  0.500000             1\n",
       "2  ALEMANIA        3   2  1  9.0  0.750000             1\n",
       "3  ALEMANIA        4   1  2  4.0  0.571429             1\n",
       "4  ALEMANIA        5   0  0  0.0  0.000000             1"
      ]
     },
     "execution_count": 15,
     "metadata": {},
     "output_type": "execute_result"
    }
   ],
   "source": [
    "tranchas_2.head()"
   ]
  },
  {
   "cell_type": "code",
   "execution_count": 142,
   "metadata": {
    "collapsed": true
   },
   "outputs": [],
   "source": [
    "tranchas_2.to_excel('tranchas_2.xlsx')"
   ]
  },
  {
   "cell_type": "code",
   "execution_count": 16,
   "metadata": {
    "scrolled": true
   },
   "outputs": [
    {
     "data": {
      "text/html": [
       "<div>\n",
       "<style>\n",
       "    .dataframe thead tr:only-child th {\n",
       "        text-align: right;\n",
       "    }\n",
       "\n",
       "    .dataframe thead th {\n",
       "        text-align: left;\n",
       "    }\n",
       "\n",
       "    .dataframe tbody tr th {\n",
       "        vertical-align: top;\n",
       "    }\n",
       "</style>\n",
       "<table border=\"1\" class=\"dataframe\">\n",
       "  <thead>\n",
       "    <tr style=\"text-align: right;\">\n",
       "      <th></th>\n",
       "      <th>Country</th>\n",
       "      <th>Punt_Ataque</th>\n",
       "      <th>Punt_Med</th>\n",
       "      <th>Punt_Def</th>\n",
       "      <th>Punt_Media_Eq</th>\n",
       "      <th>EQUIPO</th>\n",
       "      <th>RANKING_FIFA</th>\n",
       "    </tr>\n",
       "  </thead>\n",
       "  <tbody>\n",
       "    <tr>\n",
       "      <th>0</th>\n",
       "      <td>ALEMANIA</td>\n",
       "      <td>85</td>\n",
       "      <td>85</td>\n",
       "      <td>85</td>\n",
       "      <td>85.000000</td>\n",
       "      <td>ALEMANIA</td>\n",
       "      <td>1</td>\n",
       "    </tr>\n",
       "    <tr>\n",
       "      <th>1</th>\n",
       "      <td>ARABIA SAUDI</td>\n",
       "      <td>71</td>\n",
       "      <td>72</td>\n",
       "      <td>71</td>\n",
       "      <td>71.333333</td>\n",
       "      <td>ARABIA SAUDI</td>\n",
       "      <td>67</td>\n",
       "    </tr>\n",
       "    <tr>\n",
       "      <th>2</th>\n",
       "      <td>ARGENTINA</td>\n",
       "      <td>86</td>\n",
       "      <td>83</td>\n",
       "      <td>81</td>\n",
       "      <td>83.333333</td>\n",
       "      <td>ARGENTINA</td>\n",
       "      <td>5</td>\n",
       "    </tr>\n",
       "    <tr>\n",
       "      <th>3</th>\n",
       "      <td>AUSTRALIA</td>\n",
       "      <td>69</td>\n",
       "      <td>72</td>\n",
       "      <td>71</td>\n",
       "      <td>70.666667</td>\n",
       "      <td>AUSTRALIA</td>\n",
       "      <td>36</td>\n",
       "    </tr>\n",
       "    <tr>\n",
       "      <th>4</th>\n",
       "      <td>AUSTRIA</td>\n",
       "      <td>80</td>\n",
       "      <td>77</td>\n",
       "      <td>75</td>\n",
       "      <td>77.333333</td>\n",
       "      <td>AUSTRIA</td>\n",
       "      <td>26</td>\n",
       "    </tr>\n",
       "  </tbody>\n",
       "</table>\n",
       "</div>"
      ],
      "text/plain": [
       "        Country  Punt_Ataque  Punt_Med  Punt_Def  Punt_Media_Eq        EQUIPO  \\\n",
       "0      ALEMANIA           85        85        85      85.000000      ALEMANIA   \n",
       "1  ARABIA SAUDI           71        72        71      71.333333  ARABIA SAUDI   \n",
       "2     ARGENTINA           86        83        81      83.333333     ARGENTINA   \n",
       "3     AUSTRALIA           69        72        71      70.666667     AUSTRALIA   \n",
       "4       AUSTRIA           80        77        75      77.333333       AUSTRIA   \n",
       "\n",
       "   RANKING_FIFA  \n",
       "0             1  \n",
       "1            67  \n",
       "2             5  \n",
       "3            36  \n",
       "4            26  "
      ]
     },
     "execution_count": 16,
     "metadata": {},
     "output_type": "execute_result"
    }
   ],
   "source": [
    "df1.head()"
   ]
  },
  {
   "cell_type": "markdown",
   "metadata": {},
   "source": [
    "Creamos el código para un partido"
   ]
  },
  {
   "cell_type": "code",
   "execution_count": 26,
   "metadata": {
    "collapsed": true
   },
   "outputs": [],
   "source": [
    "# Función que me devuelve la trancha del ranking a la que pertenece una posición de ranking\n",
    "\n",
    "def trancha_ranking(ranking):\n",
    "    if ranking <= 10:\n",
    "        trancha = 1\n",
    "    elif ranking <= 20:\n",
    "        trancha = 2\n",
    "    elif ranking <= 50:\n",
    "        trancha = 3\n",
    "    elif ranking <= 100:\n",
    "        trancha = 4\n",
    "    else:\n",
    "        trancha = 5\n",
    "    return trancha"
   ]
  },
  {
   "cell_type": "code",
   "execution_count": 27,
   "metadata": {
    "collapsed": true
   },
   "outputs": [],
   "source": [
    "partido = ['ALEMANIA', 'ARABIA SAUDI']"
   ]
  },
  {
   "cell_type": "code",
   "execution_count": 28,
   "metadata": {
    "collapsed": true
   },
   "outputs": [],
   "source": [
    "local = df1[df1['Country'] == partido[0]]\n",
    "visitante = df1[df1['Country'] == partido[1]]\n",
    "\n",
    "union = pd.DataFrame()\n",
    "\n",
    "union['DIF_AT_DEF'] = pd.Series(int(local['Punt_Ataque']) - int(visitante['Punt_Def']))\n",
    "union['DIF_MED'] = pd.Series(int(local['Punt_Med']) - int(visitante['Punt_Med']))\n",
    "union['DIF_DEF_AT'] = pd.Series(int(local['Punt_Def']) - int(visitante['Punt_Ataque']))\n",
    "union['DIF_RANK'] = pd.Series(int(local['RANKING_FIFA']) - int(visitante['RANKING_FIFA']))"
   ]
  },
  {
   "cell_type": "code",
   "execution_count": 29,
   "metadata": {},
   "outputs": [
    {
     "data": {
      "text/html": [
       "<div>\n",
       "<style>\n",
       "    .dataframe thead tr:only-child th {\n",
       "        text-align: right;\n",
       "    }\n",
       "\n",
       "    .dataframe thead th {\n",
       "        text-align: left;\n",
       "    }\n",
       "\n",
       "    .dataframe tbody tr th {\n",
       "        vertical-align: top;\n",
       "    }\n",
       "</style>\n",
       "<table border=\"1\" class=\"dataframe\">\n",
       "  <thead>\n",
       "    <tr style=\"text-align: right;\">\n",
       "      <th></th>\n",
       "      <th>DIF_AT_DEF</th>\n",
       "      <th>DIF_MED</th>\n",
       "      <th>DIF_DEF_AT</th>\n",
       "      <th>DIF_RANK</th>\n",
       "    </tr>\n",
       "  </thead>\n",
       "  <tbody>\n",
       "    <tr>\n",
       "      <th>0</th>\n",
       "      <td>14</td>\n",
       "      <td>13</td>\n",
       "      <td>14</td>\n",
       "      <td>-66</td>\n",
       "    </tr>\n",
       "  </tbody>\n",
       "</table>\n",
       "</div>"
      ],
      "text/plain": [
       "   DIF_AT_DEF  DIF_MED  DIF_DEF_AT  DIF_RANK\n",
       "0          14       13          14       -66"
      ]
     },
     "execution_count": 29,
     "metadata": {},
     "output_type": "execute_result"
    }
   ],
   "source": [
    "union"
   ]
  },
  {
   "cell_type": "code",
   "execution_count": 30,
   "metadata": {
    "scrolled": true
   },
   "outputs": [],
   "source": [
    "ranking_local = int(tranchas_2[tranchas_2['EQUIPO'] == partido[0]]['RANKING_FIFA'][:1])\n",
    "trancha_local = trancha_ranking(ranking_local)\n",
    "\n",
    "ranking_visitante = int(tranchas_2[tranchas_2['EQUIPO'] == partido[1]]['RANKING_FIFA'][:1])\n",
    "trancha_visitante = trancha_ranking(ranking_visitante)"
   ]
  },
  {
   "cell_type": "code",
   "execution_count": 31,
   "metadata": {
    "collapsed": true
   },
   "outputs": [],
   "source": [
    "cond1 = tranchas_2['EQUIPO'] == partido[0]\n",
    "cond2 = tranchas_2['TRANCHA'] == trancha_visitante\n",
    "\n",
    "porc_local = float(tranchas_2[cond1 & cond2]['POR_VIC'])\n",
    "\n",
    "cond3 = tranchas_2['EQUIPO'] == partido[1]\n",
    "cond4 = tranchas_2['TRANCHA'] == trancha_local\n",
    "\n",
    "porc_visitante = float(tranchas_2[cond3 & cond4]['POR_VIC'])\n"
   ]
  },
  {
   "cell_type": "code",
   "execution_count": 32,
   "metadata": {},
   "outputs": [
    {
     "data": {
      "text/plain": [
       "0.5714285714285714"
      ]
     },
     "execution_count": 32,
     "metadata": {},
     "output_type": "execute_result"
    }
   ],
   "source": [
    "porc_local"
   ]
  },
  {
   "cell_type": "code",
   "execution_count": 33,
   "metadata": {
    "collapsed": true
   },
   "outputs": [],
   "source": [
    "union['DIF_VD_TRAN'] = pd.Series(porc_local - porc_visitante)\n"
   ]
  },
  {
   "cell_type": "code",
   "execution_count": 34,
   "metadata": {
    "scrolled": false
   },
   "outputs": [
    {
     "data": {
      "text/html": [
       "<div>\n",
       "<style>\n",
       "    .dataframe thead tr:only-child th {\n",
       "        text-align: right;\n",
       "    }\n",
       "\n",
       "    .dataframe thead th {\n",
       "        text-align: left;\n",
       "    }\n",
       "\n",
       "    .dataframe tbody tr th {\n",
       "        vertical-align: top;\n",
       "    }\n",
       "</style>\n",
       "<table border=\"1\" class=\"dataframe\">\n",
       "  <thead>\n",
       "    <tr style=\"text-align: right;\">\n",
       "      <th></th>\n",
       "      <th>DIF_AT_DEF</th>\n",
       "      <th>DIF_MED</th>\n",
       "      <th>DIF_DEF_AT</th>\n",
       "      <th>DIF_RANK</th>\n",
       "      <th>DIF_VD_TRAN</th>\n",
       "    </tr>\n",
       "  </thead>\n",
       "  <tbody>\n",
       "    <tr>\n",
       "      <th>0</th>\n",
       "      <td>14</td>\n",
       "      <td>13</td>\n",
       "      <td>14</td>\n",
       "      <td>-66</td>\n",
       "      <td>0.571429</td>\n",
       "    </tr>\n",
       "  </tbody>\n",
       "</table>\n",
       "</div>"
      ],
      "text/plain": [
       "   DIF_AT_DEF  DIF_MED  DIF_DEF_AT  DIF_RANK  DIF_VD_TRAN\n",
       "0          14       13          14       -66     0.571429"
      ]
     },
     "execution_count": 34,
     "metadata": {},
     "output_type": "execute_result"
    }
   ],
   "source": [
    "union"
   ]
  },
  {
   "cell_type": "markdown",
   "metadata": {},
   "source": [
    "Generalizamos metiendo el código en una función. Para dicha función necesitaremos las tablas:\n",
    "* `df1`\n",
    "* `tranchas_2`"
   ]
  },
  {
   "cell_type": "code",
   "execution_count": 35,
   "metadata": {
    "collapsed": true
   },
   "outputs": [],
   "source": [
    "# Necesito las tablas df1 y tranchas_2\n",
    "\n",
    "def genera_tabla_caracteristicas(partido):\n",
    "    \n",
    "    local = df1[df1['Country'] == partido[0]]\n",
    "    visitante = df1[df1['Country'] == partido[1]]\n",
    "\n",
    "    union = pd.DataFrame()\n",
    "\n",
    "    union['DIF_AT_DEF'] = pd.Series(int(local['Punt_Ataque']) - int(visitante['Punt_Def']))\n",
    "    union['DIF_MED'] = pd.Series(int(local['Punt_Med']) - int(visitante['Punt_Med']))\n",
    "    union['DIF_DEF_AT'] = pd.Series(int(local['Punt_Def']) - int(visitante['Punt_Ataque']))\n",
    "    union['DIF_RANK'] = pd.Series(int(visitante['RANKING_FIFA']) - int(local['RANKING_FIFA']))\n",
    "    \n",
    "    ranking_local = int(tranchas_2[tranchas_2['EQUIPO'] == partido[0]]['RANKING_FIFA'][:1])\n",
    "    trancha_local = trancha_ranking(ranking_local)\n",
    "\n",
    "    ranking_visitante = int(tranchas_2[tranchas_2['EQUIPO'] == partido[1]]['RANKING_FIFA'][:1])\n",
    "    trancha_visitante = trancha_ranking(ranking_visitante)\n",
    "    \n",
    "    cond1 = tranchas_2['EQUIPO'] == partido[0]\n",
    "    cond2 = tranchas_2['TRANCHA'] == trancha_visitante\n",
    "\n",
    "    porc_local = float(tranchas_2[cond1 & cond2]['POR_VIC'])\n",
    "\n",
    "    cond3 = tranchas_2['EQUIPO'] == partido[1]\n",
    "    cond4 = tranchas_2['TRANCHA'] == trancha_local\n",
    "\n",
    "    porc_visitante = float(tranchas_2[cond3 & cond4]['POR_VIC'])\n",
    "\n",
    "    union['DIF_VD_TRAN'] = pd.Series(porc_local - porc_visitante)\n",
    "\n",
    "    return union"
   ]
  },
  {
   "cell_type": "code",
   "execution_count": 36,
   "metadata": {
    "scrolled": true
   },
   "outputs": [
    {
     "data": {
      "text/html": [
       "<div>\n",
       "<style>\n",
       "    .dataframe thead tr:only-child th {\n",
       "        text-align: right;\n",
       "    }\n",
       "\n",
       "    .dataframe thead th {\n",
       "        text-align: left;\n",
       "    }\n",
       "\n",
       "    .dataframe tbody tr th {\n",
       "        vertical-align: top;\n",
       "    }\n",
       "</style>\n",
       "<table border=\"1\" class=\"dataframe\">\n",
       "  <thead>\n",
       "    <tr style=\"text-align: right;\">\n",
       "      <th></th>\n",
       "      <th>DIF_AT_DEF</th>\n",
       "      <th>DIF_MED</th>\n",
       "      <th>DIF_DEF_AT</th>\n",
       "      <th>DIF_RANK</th>\n",
       "      <th>DIF_VD_TRAN</th>\n",
       "    </tr>\n",
       "  </thead>\n",
       "  <tbody>\n",
       "    <tr>\n",
       "      <th>0</th>\n",
       "      <td>14</td>\n",
       "      <td>14</td>\n",
       "      <td>14</td>\n",
       "      <td>28</td>\n",
       "      <td>0.75</td>\n",
       "    </tr>\n",
       "  </tbody>\n",
       "</table>\n",
       "</div>"
      ],
      "text/plain": [
       "   DIF_AT_DEF  DIF_MED  DIF_DEF_AT  DIF_RANK  DIF_VD_TRAN\n",
       "0          14       14          14        28         0.75"
      ]
     },
     "execution_count": 36,
     "metadata": {},
     "output_type": "execute_result"
    }
   ],
   "source": [
    "genera_tabla_caracteristicas(['ALEMANIA', 'IRLANDA DEL NORTE'])"
   ]
  }
 ],
 "metadata": {
  "kernelspec": {
   "display_name": "Python 3",
   "language": "python",
   "name": "python3"
  },
  "language_info": {
   "codemirror_mode": {
    "name": "ipython",
    "version": 3
   },
   "file_extension": ".py",
   "mimetype": "text/x-python",
   "name": "python",
   "nbconvert_exporter": "python",
   "pygments_lexer": "ipython3",
   "version": "3.6.3"
  }
 },
 "nbformat": 4,
 "nbformat_minor": 2
}
