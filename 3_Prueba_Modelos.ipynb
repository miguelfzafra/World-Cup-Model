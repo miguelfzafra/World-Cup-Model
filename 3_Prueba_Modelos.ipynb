{
 "cells": [
  {
   "cell_type": "markdown",
   "metadata": {},
   "source": [
    "# Prueba de distintos modelos de predicción"
   ]
  },
  {
   "cell_type": "markdown",
   "metadata": {},
   "source": [
    "En este notebook se prueban tres algoritmos de clasificación:\n",
    "\n",
    "* Random Forest\n",
    "* Regresión logística multiclase\n",
    "* K vecinos más próximos\n",
    "\n",
    "Con el objetivo de encontrar el que mejor prediga."
   ]
  },
  {
   "cell_type": "code",
   "execution_count": 1,
   "metadata": {
    "collapsed": true
   },
   "outputs": [],
   "source": [
    "import pandas as pd\n",
    "import numpy as np\n",
    "import matplotlib.pyplot as plt\n",
    "import seaborn as sns\n",
    "% matplotlib inline\n",
    "\n",
    "import warnings\n",
    "warnings.filterwarnings('ignore')\n"
   ]
  },
  {
   "cell_type": "markdown",
   "metadata": {},
   "source": [
    "## 1. Obtención del dataframe y tratamiento de las variables"
   ]
  },
  {
   "cell_type": "markdown",
   "metadata": {},
   "source": [
    "Importamos el dataframe"
   ]
  },
  {
   "cell_type": "code",
   "execution_count": 88,
   "metadata": {
    "collapsed": true
   },
   "outputs": [],
   "source": [
    "df_pre = pd.read_excel('TABLA_MODELO.xlsx', sheetname='PLANTILLA')"
   ]
  },
  {
   "cell_type": "markdown",
   "metadata": {},
   "source": [
    "Lo filtramos:"
   ]
  },
  {
   "cell_type": "code",
   "execution_count": 89,
   "metadata": {
    "collapsed": true
   },
   "outputs": [],
   "source": [
    "df_filt = df_pre[['ANIO', \n",
    "              'EQUIPO_1', \n",
    "              'RANKING_1', \n",
    "              'EQUIPO_2', \n",
    "              'RANKING_2',\n",
    "              'POR_VIC1',\n",
    "              'POR_VIC2',\n",
    "              'ATAQUE_1',\n",
    "              'MEDIO_1',\n",
    "              'DEFENSA_1',\n",
    "              'ATAQUE_2',\n",
    "              'MEDIO_2',\n",
    "              'DEFENSA_2',\n",
    "              'RESULTADO_CUOTAS']]"
   ]
  },
  {
   "cell_type": "markdown",
   "metadata": {},
   "source": [
    "Generamos variables en diferencias:"
   ]
  },
  {
   "cell_type": "code",
   "execution_count": 90,
   "metadata": {
    "collapsed": true
   },
   "outputs": [],
   "source": [
    "df_filt['DIF_AT_DEF'] = df_filt['ATAQUE_1'] - df_filt['DEFENSA_2']\n",
    "df_filt['DIF_MED'] = df_filt['MEDIO_1'] - df_filt['MEDIO_2']\n",
    "df_filt['DIF_DEF_AT'] = df_filt['DEFENSA_1'] - df_filt['ATAQUE_2']\n",
    "df_filt['DIF_RANK'] = df_filt['RANKING_2'] - df_filt['RANKING_1']\n",
    "df_filt['DIF_VD_TRAN'] = df_filt['POR_VIC1'] - df_filt['POR_VIC2']\n",
    "df_filt['RESULTADO'] = df_filt['RESULTADO_CUOTAS']"
   ]
  },
  {
   "cell_type": "code",
   "execution_count": 91,
   "metadata": {
    "collapsed": true
   },
   "outputs": [],
   "source": [
    "df = df_filt.copy()"
   ]
  },
  {
   "cell_type": "markdown",
   "metadata": {},
   "source": [
    "#### Celda de elección de parámetros"
   ]
  },
  {
   "cell_type": "code",
   "execution_count": 92,
   "metadata": {
    "collapsed": true
   },
   "outputs": [],
   "source": [
    "anios = [2015, 2016, 2017, 2018]\n",
    "tipo_partido = ['AMISTOSO', 'OFICIAL']\n",
    "variables_modelo = ['DIF_AT_DEF', 'DIF_MED', 'DIF_DEF_AT', 'DIF_RANK','DIF_VD_TRAN', 'RESULTADO']\n",
    "factor_variable1 = 10\n",
    "factor_variable2 = 10\n",
    "factor_variable3 = 10\n",
    "factor_variable4 = 1\n",
    "factor_variable5 = 1\n",
    "testsize = 0.15"
   ]
  },
  {
   "cell_type": "markdown",
   "metadata": {},
   "source": [
    "#### Tratamiento del dataframe"
   ]
  },
  {
   "cell_type": "code",
   "execution_count": 93,
   "metadata": {
    "collapsed": true
   },
   "outputs": [],
   "source": [
    "# Filtro de año\n",
    "\n",
    "df = df[df['ANIO'].isin(anios)]"
   ]
  },
  {
   "cell_type": "code",
   "execution_count": 94,
   "metadata": {
    "collapsed": true
   },
   "outputs": [],
   "source": [
    "# Aplicación de factores de las variables\n",
    "\n",
    "df[variables_modelo[0]] = df[variables_modelo[0]] * factor_variable1\n",
    "df[variables_modelo[1]] = df[variables_modelo[1]] * factor_variable2\n",
    "df[variables_modelo[2]] = df[variables_modelo[2]] * factor_variable3\n",
    "df[variables_modelo[3]] = df[variables_modelo[3]] * factor_variable4\n",
    "df[variables_modelo[4]] = df[variables_modelo[4]] * factor_variable5\n",
    "\n"
   ]
  },
  {
   "cell_type": "code",
   "execution_count": 95,
   "metadata": {
    "collapsed": true
   },
   "outputs": [],
   "source": [
    "# Nos quedamos con las columnas de las variables del modelo\n",
    "\n",
    "df = df[variables_modelo]"
   ]
  },
  {
   "cell_type": "code",
   "execution_count": 96,
   "metadata": {},
   "outputs": [
    {
     "data": {
      "text/html": [
       "<div>\n",
       "<style>\n",
       "    .dataframe thead tr:only-child th {\n",
       "        text-align: right;\n",
       "    }\n",
       "\n",
       "    .dataframe thead th {\n",
       "        text-align: left;\n",
       "    }\n",
       "\n",
       "    .dataframe tbody tr th {\n",
       "        vertical-align: top;\n",
       "    }\n",
       "</style>\n",
       "<table border=\"1\" class=\"dataframe\">\n",
       "  <thead>\n",
       "    <tr style=\"text-align: right;\">\n",
       "      <th></th>\n",
       "      <th>DIF_AT_DEF</th>\n",
       "      <th>DIF_MED</th>\n",
       "      <th>DIF_DEF_AT</th>\n",
       "      <th>DIF_RANK</th>\n",
       "      <th>DIF_VD_TRAN</th>\n",
       "      <th>RESULTADO</th>\n",
       "    </tr>\n",
       "  </thead>\n",
       "  <tbody>\n",
       "    <tr>\n",
       "      <th>0</th>\n",
       "      <td>140</td>\n",
       "      <td>130</td>\n",
       "      <td>140</td>\n",
       "      <td>66</td>\n",
       "      <td>0.571429</td>\n",
       "      <td>1</td>\n",
       "    </tr>\n",
       "    <tr>\n",
       "      <th>1</th>\n",
       "      <td>-50</td>\n",
       "      <td>-80</td>\n",
       "      <td>-100</td>\n",
       "      <td>-25</td>\n",
       "      <td>-0.416667</td>\n",
       "      <td>-1</td>\n",
       "    </tr>\n",
       "    <tr>\n",
       "      <th>2</th>\n",
       "      <td>-10</td>\n",
       "      <td>0</td>\n",
       "      <td>-20</td>\n",
       "      <td>1</td>\n",
       "      <td>-0.404762</td>\n",
       "      <td>0</td>\n",
       "    </tr>\n",
       "    <tr>\n",
       "      <th>3</th>\n",
       "      <td>0</td>\n",
       "      <td>-10</td>\n",
       "      <td>10</td>\n",
       "      <td>9</td>\n",
       "      <td>-0.261905</td>\n",
       "      <td>0</td>\n",
       "    </tr>\n",
       "    <tr>\n",
       "      <th>4</th>\n",
       "      <td>-30</td>\n",
       "      <td>-40</td>\n",
       "      <td>-60</td>\n",
       "      <td>-56</td>\n",
       "      <td>-0.571429</td>\n",
       "      <td>-1</td>\n",
       "    </tr>\n",
       "  </tbody>\n",
       "</table>\n",
       "</div>"
      ],
      "text/plain": [
       "   DIF_AT_DEF  DIF_MED  DIF_DEF_AT  DIF_RANK  DIF_VD_TRAN  RESULTADO\n",
       "0         140      130         140        66     0.571429          1\n",
       "1         -50      -80        -100       -25    -0.416667         -1\n",
       "2         -10        0         -20         1    -0.404762          0\n",
       "3           0      -10          10         9    -0.261905          0\n",
       "4         -30      -40         -60       -56    -0.571429         -1"
      ]
     },
     "execution_count": 96,
     "metadata": {},
     "output_type": "execute_result"
    }
   ],
   "source": [
    "df.head(5)"
   ]
  },
  {
   "cell_type": "markdown",
   "metadata": {},
   "source": [
    "## 2. Regresión logística"
   ]
  },
  {
   "cell_type": "markdown",
   "metadata": {},
   "source": [
    "#### Dividimos en train y test set"
   ]
  },
  {
   "cell_type": "code",
   "execution_count": 97,
   "metadata": {
    "collapsed": true
   },
   "outputs": [],
   "source": [
    "from sklearn.model_selection import train_test_split\n",
    "\n",
    "X_train_LR, X_test_LR, y_train_LR, y_test_LR = train_test_split(\n",
    "                                                    df.drop('RESULTADO',axis=1), \n",
    "                                                    df['RESULTADO'], \n",
    "                                                    test_size=testsize)"
   ]
  },
  {
   "cell_type": "markdown",
   "metadata": {},
   "source": [
    "#### Entrenamos"
   ]
  },
  {
   "cell_type": "code",
   "execution_count": 98,
   "metadata": {},
   "outputs": [
    {
     "data": {
      "text/plain": [
       "LogisticRegression(C=1.0, class_weight='balanced', dual=False,\n",
       "          fit_intercept=True, intercept_scaling=1, max_iter=100,\n",
       "          multi_class='multinomial', n_jobs=1, penalty='l2',\n",
       "          random_state=None, solver='lbfgs', tol=0.0001, verbose=0,\n",
       "          warm_start=False)"
      ]
     },
     "execution_count": 98,
     "metadata": {},
     "output_type": "execute_result"
    }
   ],
   "source": [
    "from sklearn.linear_model import LogisticRegression\n",
    "\n",
    "logmodel = LogisticRegression(class_weight='balanced', multi_class='multinomial', solver='lbfgs')\n",
    "logmodel.fit(X_train_LR,y_train_LR,)"
   ]
  },
  {
   "cell_type": "markdown",
   "metadata": {},
   "source": [
    "#### Predecimos"
   ]
  },
  {
   "cell_type": "code",
   "execution_count": 99,
   "metadata": {},
   "outputs": [
    {
     "data": {
      "text/plain": [
       "array([ 0,  0,  0,  0,  0,  0,  1,  1,  0,  0, -1,  0,  1,  1,  1,  0,  0,\n",
       "       -1,  0,  1,  0,  1,  1,  1,  1,  1,  1,  1,  1,  1,  1,  0,  0,  0,\n",
       "        0,  0,  1,  1, -1,  0,  1,  0,  0,  1,  1,  0,  0,  1,  0, -1,  0,\n",
       "        1,  0,  1,  0,  0,  0,  0,  1,  0,  0,  1,  1,  1,  0,  0,  1,  1,\n",
       "        0,  0,  1,  1,  1,  0,  0,  1,  1,  1,  0,  0, -1, -1,  0,  0,  1,\n",
       "        0,  0,  1,  1,  0,  0, -1,  1,  0, -1, -1,  0,  1,  0], dtype=int64)"
      ]
     },
     "execution_count": 99,
     "metadata": {},
     "output_type": "execute_result"
    }
   ],
   "source": [
    "predictions_LR = logmodel.predict(X_test_LR)\n",
    "predictions_LR"
   ]
  },
  {
   "cell_type": "markdown",
   "metadata": {},
   "source": [
    "#### Performance"
   ]
  },
  {
   "cell_type": "code",
   "execution_count": 100,
   "metadata": {
    "collapsed": true
   },
   "outputs": [],
   "source": [
    "from sklearn.metrics import classification_report,confusion_matrix"
   ]
  },
  {
   "cell_type": "code",
   "execution_count": 101,
   "metadata": {
    "scrolled": true
   },
   "outputs": [
    {
     "name": "stdout",
     "output_type": "stream",
     "text": [
      "             precision    recall  f1-score   support\n",
      "\n",
      "         -1       0.56      0.71      0.63         7\n",
      "          0       0.82      0.73      0.77        55\n",
      "          1       0.73      0.81      0.77        37\n",
      "\n",
      "avg / total       0.77      0.76      0.76        99\n",
      "\n"
     ]
    }
   ],
   "source": [
    "print(classification_report(y_test_LR,predictions_LR))"
   ]
  },
  {
   "cell_type": "code",
   "execution_count": 102,
   "metadata": {},
   "outputs": [
    {
     "data": {
      "text/plain": [
       "array([[ 5,  2,  0],\n",
       "       [ 4, 40, 11],\n",
       "       [ 0,  7, 30]], dtype=int64)"
      ]
     },
     "execution_count": 102,
     "metadata": {},
     "output_type": "execute_result"
    }
   ],
   "source": [
    "confusion_matrix(y_test_LR, predictions_LR)"
   ]
  },
  {
   "cell_type": "markdown",
   "metadata": {},
   "source": [
    "## 3. Random Forest"
   ]
  },
  {
   "cell_type": "markdown",
   "metadata": {},
   "source": [
    "#### Dividimos en train y test set"
   ]
  },
  {
   "cell_type": "code",
   "execution_count": 103,
   "metadata": {
    "collapsed": true
   },
   "outputs": [],
   "source": [
    "from sklearn.model_selection import train_test_split\n",
    "\n",
    "X_train_RF, X_test_RF, y_train_RF, y_test_RF = train_test_split(\n",
    "                                                    df.drop('RESULTADO',axis=1), \n",
    "                                                    df['RESULTADO'], \n",
    "                                                    test_size=testsize)"
   ]
  },
  {
   "cell_type": "markdown",
   "metadata": {},
   "source": [
    "#### Entrenamos"
   ]
  },
  {
   "cell_type": "code",
   "execution_count": 104,
   "metadata": {},
   "outputs": [
    {
     "data": {
      "text/plain": [
       "RandomForestClassifier(bootstrap=True, class_weight=None, criterion='gini',\n",
       "            max_depth=None, max_features='auto', max_leaf_nodes=None,\n",
       "            min_impurity_decrease=0.0, min_impurity_split=None,\n",
       "            min_samples_leaf=1, min_samples_split=2,\n",
       "            min_weight_fraction_leaf=0.0, n_estimators=10, n_jobs=1,\n",
       "            oob_score=False, random_state=None, verbose=0,\n",
       "            warm_start=False)"
      ]
     },
     "execution_count": 104,
     "metadata": {},
     "output_type": "execute_result"
    }
   ],
   "source": [
    "from sklearn.ensemble import RandomForestClassifier\n",
    "\n",
    "rfc = RandomForestClassifier()\n",
    "rfc.fit(X_train_RF, y_train_RF)"
   ]
  },
  {
   "cell_type": "markdown",
   "metadata": {},
   "source": [
    "#### Predecimos"
   ]
  },
  {
   "cell_type": "code",
   "execution_count": 105,
   "metadata": {},
   "outputs": [
    {
     "data": {
      "text/plain": [
       "array([ 1,  1,  0,  1,  1,  1,  0,  0,  1,  0,  0,  0,  0,  0, -1,  0,  0,\n",
       "       -1, -1,  0,  0,  1,  0,  1,  0,  0,  0,  0,  0,  0,  1, -1, -1,  0,\n",
       "        1,  1,  0,  0,  1,  1,  0,  1,  1, -1,  0,  1,  0,  1, -1,  0,  0,\n",
       "        0, -1,  0,  1,  0,  1,  0,  1,  1,  1,  0,  0,  0,  1,  0,  1,  0,\n",
       "        0,  0,  1,  0,  1,  0,  0,  0,  1,  0,  0,  1,  0,  0,  0,  0,  0,\n",
       "        0,  1,  0,  0, -1,  0,  1,  0,  0, -1,  1,  0,  0,  0], dtype=int64)"
      ]
     },
     "execution_count": 105,
     "metadata": {},
     "output_type": "execute_result"
    }
   ],
   "source": [
    "predictions_RF = rfc.predict(X_test_RF)\n",
    "predictions_RF"
   ]
  },
  {
   "cell_type": "markdown",
   "metadata": {},
   "source": [
    "#### Performance"
   ]
  },
  {
   "cell_type": "code",
   "execution_count": 106,
   "metadata": {
    "collapsed": true
   },
   "outputs": [],
   "source": [
    "from sklearn.metrics import classification_report,confusion_matrix"
   ]
  },
  {
   "cell_type": "code",
   "execution_count": 107,
   "metadata": {},
   "outputs": [
    {
     "name": "stdout",
     "output_type": "stream",
     "text": [
      "             precision    recall  f1-score   support\n",
      "\n",
      "         -1       0.70      0.70      0.70        10\n",
      "          0       0.71      0.82      0.76        50\n",
      "          1       0.81      0.64      0.71        39\n",
      "\n",
      "avg / total       0.75      0.74      0.74        99\n",
      "\n"
     ]
    }
   ],
   "source": [
    "print(classification_report(y_test_RF,predictions_RF))"
   ]
  },
  {
   "cell_type": "markdown",
   "metadata": {},
   "source": [
    "## 4. KNN Neighbors"
   ]
  },
  {
   "cell_type": "markdown",
   "metadata": {},
   "source": [
    "#### Escalamos las variables"
   ]
  },
  {
   "cell_type": "code",
   "execution_count": 108,
   "metadata": {
    "collapsed": true
   },
   "outputs": [],
   "source": [
    "from sklearn.preprocessing import StandardScaler\n",
    "scaler = StandardScaler()\n",
    "scaler.fit(df.drop('RESULTADO',axis=1))\n",
    "scaled_features = scaler.transform(df.drop('RESULTADO',axis=1))\n",
    "df_feat = pd.DataFrame(scaled_features,columns=df.columns[:-1])"
   ]
  },
  {
   "cell_type": "code",
   "execution_count": 109,
   "metadata": {},
   "outputs": [
    {
     "data": {
      "text/html": [
       "<div>\n",
       "<style>\n",
       "    .dataframe thead tr:only-child th {\n",
       "        text-align: right;\n",
       "    }\n",
       "\n",
       "    .dataframe thead th {\n",
       "        text-align: left;\n",
       "    }\n",
       "\n",
       "    .dataframe tbody tr th {\n",
       "        vertical-align: top;\n",
       "    }\n",
       "</style>\n",
       "<table border=\"1\" class=\"dataframe\">\n",
       "  <thead>\n",
       "    <tr style=\"text-align: right;\">\n",
       "      <th></th>\n",
       "      <th>DIF_AT_DEF</th>\n",
       "      <th>DIF_MED</th>\n",
       "      <th>DIF_DEF_AT</th>\n",
       "      <th>DIF_RANK</th>\n",
       "      <th>DIF_VD_TRAN</th>\n",
       "      <th>RESULTADO</th>\n",
       "    </tr>\n",
       "  </thead>\n",
       "  <tbody>\n",
       "    <tr>\n",
       "      <th>344</th>\n",
       "      <td>-30</td>\n",
       "      <td>-80</td>\n",
       "      <td>-80</td>\n",
       "      <td>-3</td>\n",
       "      <td>-0.324786</td>\n",
       "      <td>0</td>\n",
       "    </tr>\n",
       "  </tbody>\n",
       "</table>\n",
       "</div>"
      ],
      "text/plain": [
       "     DIF_AT_DEF  DIF_MED  DIF_DEF_AT  DIF_RANK  DIF_VD_TRAN  RESULTADO\n",
       "344         -30      -80         -80        -3    -0.324786          0"
      ]
     },
     "execution_count": 109,
     "metadata": {},
     "output_type": "execute_result"
    }
   ],
   "source": [
    "df_prueba = df.sample()\n",
    "df_prueba"
   ]
  },
  {
   "cell_type": "code",
   "execution_count": 110,
   "metadata": {},
   "outputs": [
    {
     "data": {
      "text/plain": [
       "array([[-0.77579061, -1.32133031, -0.9891474 , -0.14369965, -0.93789044]])"
      ]
     },
     "execution_count": 110,
     "metadata": {},
     "output_type": "execute_result"
    }
   ],
   "source": [
    "scaler.transform(df_prueba.drop('RESULTADO',axis=1))"
   ]
  },
  {
   "cell_type": "markdown",
   "metadata": {},
   "source": [
    "#### Dividimos en train y test set"
   ]
  },
  {
   "cell_type": "code",
   "execution_count": 111,
   "metadata": {
    "collapsed": true
   },
   "outputs": [],
   "source": [
    "from sklearn.model_selection import train_test_split\n",
    "\n",
    "X_train_KNN, X_test_KNN, y_train_KNN, y_test_KNN = train_test_split(\n",
    "                                                    scaled_features, \n",
    "                                                    df['RESULTADO'], \n",
    "                                                    test_size=testsize)"
   ]
  },
  {
   "cell_type": "markdown",
   "metadata": {},
   "source": [
    "#### Elegimos valor de K -> Elbow method"
   ]
  },
  {
   "cell_type": "code",
   "execution_count": 112,
   "metadata": {
    "collapsed": true
   },
   "outputs": [],
   "source": [
    "from sklearn.neighbors import KNeighborsClassifier\n",
    "\n",
    "error_rate = []\n",
    "\n",
    "for i in range(1,100):\n",
    "    \n",
    "    knn = KNeighborsClassifier(n_neighbors=i)\n",
    "    knn.fit(X_train_KNN,y_train_KNN)\n",
    "    pred_i = knn.predict(X_test_KNN)\n",
    "    error_rate.append(np.mean(pred_i != y_test_KNN))"
   ]
  },
  {
   "cell_type": "code",
   "execution_count": 113,
   "metadata": {
    "scrolled": false
   },
   "outputs": [
    {
     "data": {
      "text/plain": [
       "Text(0,0.5,'Error Rate')"
      ]
     },
     "execution_count": 113,
     "metadata": {},
     "output_type": "execute_result"
    },
    {
     "data": {
      "image/png": "[encoded data removed]",
      "text/plain": [
       "<matplotlib.figure.Figure at 0xd0d6710>"
      ]
     },
     "metadata": {},
     "output_type": "display_data"
    }
   ],
   "source": [
    "plt.figure(figsize=(10,6))\n",
    "plt.plot(range(1,100),error_rate,color='blue', linestyle='dashed', marker='o',\n",
    "         markerfacecolor='red', markersize=10)\n",
    "plt.title('Error Rate vs. K Value')\n",
    "plt.xlabel('K')\n",
    "plt.ylabel('Error Rate')"
   ]
  },
  {
   "cell_type": "markdown",
   "metadata": {},
   "source": [
    "#### Entrenamos"
   ]
  },
  {
   "cell_type": "code",
   "execution_count": 120,
   "metadata": {},
   "outputs": [
    {
     "data": {
      "text/plain": [
       "KNeighborsClassifier(algorithm='auto', leaf_size=30, metric='minkowski',\n",
       "           metric_params=None, n_jobs=1, n_neighbors=22, p=2,\n",
       "           weights='uniform')"
      ]
     },
     "execution_count": 120,
     "metadata": {},
     "output_type": "execute_result"
    }
   ],
   "source": [
    "knn = KNeighborsClassifier(n_neighbors=22)\n",
    "knn.fit(X_train_KNN,y_train_KNN)"
   ]
  },
  {
   "cell_type": "markdown",
   "metadata": {},
   "source": [
    "#### Predecimos"
   ]
  },
  {
   "cell_type": "code",
   "execution_count": 121,
   "metadata": {
    "collapsed": true
   },
   "outputs": [],
   "source": [
    "predictions_KNN = knn.predict(X_test_KNN)"
   ]
  },
  {
   "cell_type": "markdown",
   "metadata": {},
   "source": [
    "#### Performance"
   ]
  },
  {
   "cell_type": "code",
   "execution_count": 122,
   "metadata": {
    "collapsed": true
   },
   "outputs": [],
   "source": [
    "from sklearn.metrics import classification_report,confusion_matrix"
   ]
  },
  {
   "cell_type": "code",
   "execution_count": 123,
   "metadata": {},
   "outputs": [
    {
     "name": "stdout",
     "output_type": "stream",
     "text": [
      "             precision    recall  f1-score   support\n",
      "\n",
      "         -1       0.67      0.44      0.53         9\n",
      "          0       0.75      0.89      0.82        55\n",
      "          1       0.86      0.69      0.76        35\n",
      "\n",
      "avg / total       0.78      0.78      0.77        99\n",
      "\n"
     ]
    }
   ],
   "source": [
    "print(classification_report(y_test_KNN,predictions_KNN))"
   ]
  },
  {
   "cell_type": "markdown",
   "metadata": {},
   "source": [
    "## 5. Resumen de los tres modelos"
   ]
  },
  {
   "cell_type": "code",
   "execution_count": 124,
   "metadata": {},
   "outputs": [
    {
     "name": "stdout",
     "output_type": "stream",
     "text": [
      "**************   Regresión Logística   *************\n",
      "\n",
      "             precision    recall  f1-score   support\n",
      "\n",
      "         -1       0.56      0.71      0.63         7\n",
      "          0       0.82      0.73      0.77        55\n",
      "          1       0.73      0.81      0.77        37\n",
      "\n",
      "avg / total       0.77      0.76      0.76        99\n",
      "\n",
      "****************************************************\n",
      "\n",
      "*****************   Random Forest   ****************\n",
      "\n",
      "             precision    recall  f1-score   support\n",
      "\n",
      "         -1       0.70      0.70      0.70        10\n",
      "          0       0.71      0.82      0.76        50\n",
      "          1       0.81      0.64      0.71        39\n",
      "\n",
      "avg / total       0.75      0.74      0.74        99\n",
      "\n",
      "****************************************************\n",
      "\n",
      "*****************   KNN Neighbors   ****************\n",
      "\n",
      "             precision    recall  f1-score   support\n",
      "\n",
      "         -1       0.67      0.44      0.53         9\n",
      "          0       0.75      0.89      0.82        55\n",
      "          1       0.86      0.69      0.76        35\n",
      "\n",
      "avg / total       0.78      0.78      0.77        99\n",
      "\n",
      "****************************************************\n"
     ]
    }
   ],
   "source": [
    "print(\"**************   Regresión Logística   *************\")\n",
    "print(\"\")\n",
    "print(classification_report(y_test_LR,predictions_LR))\n",
    "print('****************************************************')\n",
    "print(\"\")\n",
    "print(\"*****************   Random Forest   ****************\")\n",
    "print(\"\")\n",
    "print(classification_report(y_test_RF,predictions_RF))\n",
    "print('****************************************************')\n",
    "print(\"\")\n",
    "print(\"*****************   KNN Neighbors   ****************\")\n",
    "print(\"\")\n",
    "print(classification_report(y_test_KNN,predictions_KNN))\n",
    "print('****************************************************')"
   ]
  }
 ],
 "metadata": {
  "kernelspec": {
   "display_name": "Python 3",
   "language": "python",
   "name": "python3"
  },
  "language_info": {
   "codemirror_mode": {
    "name": "ipython",
    "version": 3
   },
   "file_extension": ".py",
   "mimetype": "text/x-python",
   "name": "python",
   "nbconvert_exporter": "python",
   "pygments_lexer": "ipython3",
   "version": "3.6.3"
  }
 },
 "nbformat": 4,
 "nbformat_minor": 2
}
