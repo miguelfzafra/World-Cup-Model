{
 "cells": [
  {
   "cell_type": "markdown",
   "metadata": {},
   "source": [
    "# Simulación Mundial Rusia 2018"
   ]
  },
  {
   "cell_type": "code",
   "execution_count": 91,
   "metadata": {
    "collapsed": true
   },
   "outputs": [],
   "source": [
    "import pandas as pd\n",
    "import numpy as np\n",
    "import matplotlib.pyplot as plt\n",
    "import seaborn as sns\n",
    "% matplotlib inline\n",
    "import warnings\n",
    "warnings.filterwarnings('ignore')\n",
    "import itertools"
   ]
  },
  {
   "cell_type": "markdown",
   "metadata": {},
   "source": [
    "# 1. Entrenamos el modelo KNN para luego predecir:"
   ]
  },
  {
   "cell_type": "code",
   "execution_count": 92,
   "metadata": {
    "collapsed": true
   },
   "outputs": [],
   "source": [
    "df_pre = pd.read_excel('TABLA_MODELO.xlsx', sheetname='PLANTILLA')\n",
    "\n",
    "df_filt = df_pre[['ANIO', \n",
    "              'EQUIPO_1', \n",
    "              'RANKING_1', \n",
    "              'EQUIPO_2', \n",
    "              'RANKING_2',\n",
    "              'POR_VIC1',\n",
    "              'POR_VIC2',\n",
    "              'ATAQUE_1',\n",
    "              'MEDIO_1',\n",
    "              'DEFENSA_1',\n",
    "              'ATAQUE_2',\n",
    "              'MEDIO_2',\n",
    "              'DEFENSA_2',\n",
    "              'RESULTADO_CUOTAS']]\n",
    "\n",
    "df_filt['DIF_AT_DEF'] = df_filt['ATAQUE_1'] - df_filt['DEFENSA_2']\n",
    "df_filt['DIF_MED'] = df_filt['MEDIO_1'] - df_filt['MEDIO_2']\n",
    "df_filt['DIF_DEF_AT'] = df_filt['DEFENSA_1'] - df_filt['ATAQUE_2']\n",
    "df_filt['DIF_RANK'] = df_filt['RANKING_2'] - df_filt['RANKING_1']\n",
    "df_filt['DIF_VD_TRAN'] = df_filt['POR_VIC1'] - df_filt['POR_VIC2']\n",
    "df_filt['RESULTADO'] = df_filt['RESULTADO_CUOTAS']\n",
    "\n",
    "df = df_filt.copy()"
   ]
  },
  {
   "cell_type": "markdown",
   "metadata": {},
   "source": [
    "#### Celda de elección de parámetros"
   ]
  },
  {
   "cell_type": "code",
   "execution_count": 93,
   "metadata": {
    "collapsed": true
   },
   "outputs": [],
   "source": [
    "anios = [2015, 2016, 2017, 2018]\n",
    "tipo_partido = ['AMISTOSO', 'OFICIAL']\n",
    "variables_modelo = ['DIF_AT_DEF', 'DIF_MED', 'DIF_DEF_AT', 'DIF_RANK', 'RESULTADO','DIF_VD_TRAN']\n",
    "factor_variable1 = 10\n",
    "factor_variable2 = 10\n",
    "factor_variable3 = 10\n",
    "factor_variable4 = 1\n",
    "factor_variable5 = 1\n",
    "testsize = 0.15"
   ]
  },
  {
   "cell_type": "markdown",
   "metadata": {},
   "source": [
    "#### Tratamiento del dataframe"
   ]
  },
  {
   "cell_type": "code",
   "execution_count": 94,
   "metadata": {
    "scrolled": true
   },
   "outputs": [
    {
     "data": {
      "text/html": [
       "<div>\n",
       "<style>\n",
       "    .dataframe thead tr:only-child th {\n",
       "        text-align: right;\n",
       "    }\n",
       "\n",
       "    .dataframe thead th {\n",
       "        text-align: left;\n",
       "    }\n",
       "\n",
       "    .dataframe tbody tr th {\n",
       "        vertical-align: top;\n",
       "    }\n",
       "</style>\n",
       "<table border=\"1\" class=\"dataframe\">\n",
       "  <thead>\n",
       "    <tr style=\"text-align: right;\">\n",
       "      <th></th>\n",
       "      <th>DIF_AT_DEF</th>\n",
       "      <th>DIF_MED</th>\n",
       "      <th>DIF_DEF_AT</th>\n",
       "      <th>DIF_RANK</th>\n",
       "      <th>RESULTADO</th>\n",
       "      <th>DIF_VD_TRAN</th>\n",
       "    </tr>\n",
       "  </thead>\n",
       "  <tbody>\n",
       "    <tr>\n",
       "      <th>0</th>\n",
       "      <td>140</td>\n",
       "      <td>130</td>\n",
       "      <td>140</td>\n",
       "      <td>66</td>\n",
       "      <td>1</td>\n",
       "      <td>0.571429</td>\n",
       "    </tr>\n",
       "    <tr>\n",
       "      <th>1</th>\n",
       "      <td>-50</td>\n",
       "      <td>-80</td>\n",
       "      <td>-100</td>\n",
       "      <td>-25</td>\n",
       "      <td>-1</td>\n",
       "      <td>-0.416667</td>\n",
       "    </tr>\n",
       "    <tr>\n",
       "      <th>2</th>\n",
       "      <td>-10</td>\n",
       "      <td>0</td>\n",
       "      <td>-20</td>\n",
       "      <td>1</td>\n",
       "      <td>0</td>\n",
       "      <td>-0.404762</td>\n",
       "    </tr>\n",
       "    <tr>\n",
       "      <th>3</th>\n",
       "      <td>0</td>\n",
       "      <td>-10</td>\n",
       "      <td>10</td>\n",
       "      <td>9</td>\n",
       "      <td>0</td>\n",
       "      <td>-0.261905</td>\n",
       "    </tr>\n",
       "    <tr>\n",
       "      <th>4</th>\n",
       "      <td>-30</td>\n",
       "      <td>-40</td>\n",
       "      <td>-60</td>\n",
       "      <td>-56</td>\n",
       "      <td>-1</td>\n",
       "      <td>-0.571429</td>\n",
       "    </tr>\n",
       "  </tbody>\n",
       "</table>\n",
       "</div>"
      ],
      "text/plain": [
       "   DIF_AT_DEF  DIF_MED  DIF_DEF_AT  DIF_RANK  RESULTADO  DIF_VD_TRAN\n",
       "0         140      130         140        66          1     0.571429\n",
       "1         -50      -80        -100       -25         -1    -0.416667\n",
       "2         -10        0         -20         1          0    -0.404762\n",
       "3           0      -10          10         9          0    -0.261905\n",
       "4         -30      -40         -60       -56         -1    -0.571429"
      ]
     },
     "execution_count": 94,
     "metadata": {},
     "output_type": "execute_result"
    }
   ],
   "source": [
    "# Filtro de año\n",
    "\n",
    "df = df[df['ANIO'].isin(anios)]\n",
    "\n",
    "# Aplicación de factores de las variables\n",
    "\n",
    "df[variables_modelo[0]] = df[variables_modelo[0]] * factor_variable1\n",
    "df[variables_modelo[1]] = df[variables_modelo[1]] * factor_variable2\n",
    "df[variables_modelo[2]] = df[variables_modelo[2]] * factor_variable3\n",
    "df[variables_modelo[3]] = df[variables_modelo[3]] * factor_variable4\n",
    "df[variables_modelo[4]] = df[variables_modelo[4]] * factor_variable5\n",
    "\n",
    "# Nos quedamos con las columnas de las variables del modelo\n",
    "\n",
    "df = df[variables_modelo]\n",
    "\n",
    "df.head(5)"
   ]
  },
  {
   "cell_type": "markdown",
   "metadata": {},
   "source": [
    "#### Escalamos las variables"
   ]
  },
  {
   "cell_type": "code",
   "execution_count": 95,
   "metadata": {
    "collapsed": true
   },
   "outputs": [],
   "source": [
    "from sklearn.preprocessing import StandardScaler\n",
    "scaler = StandardScaler()\n",
    "scaler.fit(df.drop('RESULTADO',axis=1))\n",
    "scaled_features = scaler.transform(df.drop('RESULTADO',axis=1))\n",
    "df_feat = pd.DataFrame(scaled_features,columns=df.columns[:-1])"
   ]
  },
  {
   "cell_type": "markdown",
   "metadata": {},
   "source": [
    "#### Dividimos en train y test set"
   ]
  },
  {
   "cell_type": "code",
   "execution_count": 96,
   "metadata": {
    "collapsed": true
   },
   "outputs": [],
   "source": [
    "from sklearn.model_selection import train_test_split\n",
    "\n",
    "X_train_KNN, X_test_KNN, y_train_KNN, y_test_KNN = train_test_split(\n",
    "                                                    scaled_features, \n",
    "                                                    df['RESULTADO'], \n",
    "                                                    test_size=testsize,\n",
    "                                                    random_state=20)"
   ]
  },
  {
   "cell_type": "markdown",
   "metadata": {},
   "source": [
    "####  Elegimos valor de K  -> Elbow method"
   ]
  },
  {
   "cell_type": "code",
   "execution_count": 97,
   "metadata": {
    "scrolled": false
   },
   "outputs": [
    {
     "data": {
      "text/plain": [
       "Text(0,0.5,'Error Rate')"
      ]
     },
     "execution_count": 97,
     "metadata": {},
     "output_type": "execute_result"
    },
    {
     "data": {
      "image/png": "[encoded data removed]",
      "text/plain": [
       "<matplotlib.figure.Figure at 0xcb5bda0>"
      ]
     },
     "metadata": {},
     "output_type": "display_data"
    }
   ],
   "source": [
    "from sklearn.neighbors import KNeighborsClassifier\n",
    "\n",
    "error_rate = []\n",
    "\n",
    "for i in range(1,100):\n",
    "    \n",
    "    knn = KNeighborsClassifier(n_neighbors=i)\n",
    "    knn.fit(X_train_KNN,y_train_KNN)\n",
    "    pred_i = knn.predict(X_test_KNN)\n",
    "    error_rate.append(np.mean(pred_i != y_test_KNN))\n",
    "    \n",
    "plt.figure(figsize=(10,6))\n",
    "plt.plot(range(1,100),error_rate,color='blue', linestyle='dashed', marker='o',\n",
    "         markerfacecolor='red', markersize=10)\n",
    "plt.title('Error Rate vs. K Value')\n",
    "plt.xlabel('K')\n",
    "plt.ylabel('Error Rate')"
   ]
  },
  {
   "cell_type": "markdown",
   "metadata": {},
   "source": [
    "#### Entrenamos"
   ]
  },
  {
   "cell_type": "code",
   "execution_count": 98,
   "metadata": {},
   "outputs": [
    {
     "data": {
      "text/plain": [
       "KNeighborsClassifier(algorithm='auto', leaf_size=30, metric='minkowski',\n",
       "           metric_params=None, n_jobs=1, n_neighbors=20, p=2,\n",
       "           weights='uniform')"
      ]
     },
     "execution_count": 98,
     "metadata": {},
     "output_type": "execute_result"
    }
   ],
   "source": [
    "knn = KNeighborsClassifier(n_neighbors=20)\n",
    "knn.fit(X_train_KNN,y_train_KNN)"
   ]
  },
  {
   "cell_type": "markdown",
   "metadata": {},
   "source": [
    "#### Predecimos"
   ]
  },
  {
   "cell_type": "code",
   "execution_count": 99,
   "metadata": {
    "collapsed": true
   },
   "outputs": [],
   "source": [
    "predictions_KNN = knn.predict(X_test_KNN)"
   ]
  },
  {
   "cell_type": "markdown",
   "metadata": {},
   "source": [
    "#### Performance"
   ]
  },
  {
   "cell_type": "code",
   "execution_count": 100,
   "metadata": {},
   "outputs": [
    {
     "name": "stdout",
     "output_type": "stream",
     "text": [
      "             precision    recall  f1-score   support\n",
      "\n",
      "         -1       0.82      0.90      0.86        10\n",
      "          0       0.83      0.90      0.87        50\n",
      "          1       0.91      0.79      0.85        39\n",
      "\n",
      "avg / total       0.86      0.86      0.86        99\n",
      "\n"
     ]
    }
   ],
   "source": [
    "from sklearn.metrics import classification_report,confusion_matrix\n",
    "\n",
    "print(classification_report(y_test_KNN,predictions_KNN))"
   ]
  },
  {
   "cell_type": "code",
   "execution_count": 101,
   "metadata": {
    "scrolled": true
   },
   "outputs": [
    {
     "name": "stdout",
     "output_type": "stream",
     "text": [
      "85.86 perc.\n"
     ]
    }
   ],
   "source": [
    "cm = confusion_matrix(y_test_KNN,predictions_KNN)\n",
    "accuracy = np.trace(cm)/np.sum(cm)\n",
    "print(\"%.2f perc.\" %(accuracy*100))"
   ]
  },
  {
   "cell_type": "markdown",
   "metadata": {},
   "source": [
    "# 2. Generamos para un partido la tabla de características"
   ]
  },
  {
   "cell_type": "code",
   "execution_count": 102,
   "metadata": {
    "collapsed": true
   },
   "outputs": [],
   "source": [
    "df1 = pd.read_excel('df1.xlsx')\n",
    "tranchas_2 = pd.read_excel('tranchas_2.xlsx')"
   ]
  },
  {
   "cell_type": "code",
   "execution_count": 103,
   "metadata": {
    "collapsed": true
   },
   "outputs": [],
   "source": [
    "def trancha_ranking(ranking):\n",
    "    if ranking <= 10:\n",
    "        trancha = 1\n",
    "    elif ranking <= 20:\n",
    "        trancha = 2\n",
    "    elif ranking <= 50:\n",
    "        trancha = 3\n",
    "    elif ranking <= 100:\n",
    "        trancha = 4\n",
    "    else:\n",
    "        trancha = 5\n",
    "    return trancha\n",
    "\n"
   ]
  },
  {
   "cell_type": "code",
   "execution_count": 104,
   "metadata": {
    "collapsed": true
   },
   "outputs": [],
   "source": [
    "def genera_tabla_caracteristicas(partido):\n",
    "    \n",
    "    local = df1[df1['Country'] == partido[0]]\n",
    "    visitante = df1[df1['Country'] == partido[1]]\n",
    "\n",
    "    union = pd.DataFrame()\n",
    "\n",
    "    union['DIF_AT_DEF'] = pd.Series(int(local['Punt_Ataque']) - int(visitante['Punt_Def']))\n",
    "    union['DIF_MED'] = pd.Series(int(local['Punt_Med']) - int(visitante['Punt_Med']))\n",
    "    union['DIF_DEF_AT'] = pd.Series(int(local['Punt_Def']) - int(visitante['Punt_Ataque']))\n",
    "    union['DIF_RANK'] = pd.Series(int(visitante['RANKING_FIFA']) - int(local['RANKING_FIFA']))\n",
    "    \n",
    "    ranking_local = int(tranchas_2[tranchas_2['EQUIPO'] == partido[0]]['RANKING_FIFA'][:1])\n",
    "    trancha_local = trancha_ranking(ranking_local)\n",
    "\n",
    "    ranking_visitante = int(tranchas_2[tranchas_2['EQUIPO'] == partido[1]]['RANKING_FIFA'][:1])\n",
    "    trancha_visitante = trancha_ranking(ranking_visitante)\n",
    "    \n",
    "    cond1 = tranchas_2['EQUIPO'] == partido[0]\n",
    "    cond2 = tranchas_2['TRANCHA'] == trancha_visitante\n",
    "\n",
    "    porc_local = float(tranchas_2[cond1 & cond2]['POR_VIC'])\n",
    "\n",
    "    cond3 = tranchas_2['EQUIPO'] == partido[1]\n",
    "    cond4 = tranchas_2['TRANCHA'] == trancha_local\n",
    "\n",
    "    porc_visitante = float(tranchas_2[cond3 & cond4]['POR_VIC'])\n",
    "\n",
    "    union['DIF_VD_TRAN'] = pd.Series(porc_local - porc_visitante)\n",
    "\n",
    "    return union"
   ]
  },
  {
   "cell_type": "markdown",
   "metadata": {},
   "source": [
    "# 3. Definimos la función que predice el resultado de un partido"
   ]
  },
  {
   "cell_type": "code",
   "execution_count": 105,
   "metadata": {
    "collapsed": true
   },
   "outputs": [],
   "source": [
    "# En fase de grupos nos valen los empates\n",
    "\n",
    "def predice_partido_con_empate(partido):\n",
    "    \n",
    "    tabla_caract = genera_tabla_caracteristicas(partido)\n",
    "    caract_scaled = scaler.transform(tabla_caract)\n",
    "    \n",
    "    prediction_KNN = knn.predict(caract_scaled)\n",
    "    \n",
    "    prediccion_str = str(int(prediction_KNN))\n",
    "    partido.append(prediccion_str)\n",
    "    \n",
    "    \n",
    "    return partido\n",
    "\n",
    "def predice_partido_sin_empate(partido):\n",
    "    \n",
    "    tabla_caract = genera_tabla_caracteristicas(partido)\n",
    "    caract_scaled = scaler.transform(tabla_caract)\n",
    "    \n",
    "    prediction_KNN = knn.predict(caract_scaled)\n",
    "    \n",
    "    prediccion_str = str(int(prediction_KNN))\n",
    "    \n",
    "    prediccion_fin = prediccion_str\n",
    "    \n",
    "    if (prediccion_str == '0'):\n",
    "        media_local = float(df1[df1['Country'] == partido[0]]['Punt_Media_Eq'])\n",
    "        media_visitante = float(df1[df1['Country'] == partido[1]]['Punt_Media_Eq'])\n",
    "        \n",
    "        if media_local > media_visitante:\n",
    "            prediccion_fin = '1'\n",
    "        else:\n",
    "            prediccion_fin = '-1'\n",
    "            \n",
    "    partido.append(prediccion_fin)\n",
    "\n",
    "    \n",
    "    return partido\n",
    "\n"
   ]
  },
  {
   "cell_type": "markdown",
   "metadata": {},
   "source": [
    "# 4. Simulación del mundial"
   ]
  },
  {
   "cell_type": "markdown",
   "metadata": {},
   "source": [
    "**Definimos funciones que utilizaremos:**"
   ]
  },
  {
   "cell_type": "code",
   "execution_count": 106,
   "metadata": {
    "collapsed": true
   },
   "outputs": [],
   "source": [
    "# Convertir una tabla en un diccionario\n",
    "\n",
    "def df_to_dict(df):\n",
    "    columns = df.columns\n",
    "    d = dict(itertools.zip_longest(df[columns[0]], df[columns[1]]))\n",
    "    return d\n",
    "\n",
    "# Convertir un diccionario en una tabla\n",
    "\n",
    "def dict_to_df(d):\n",
    "    df = pd.DataFrame(columns=['Team', 'Points'])\n",
    "    df['Team'] = d.keys()\n",
    "    df['Points'] = d.values()\n",
    "    return df\n",
    "\n",
    "# Crea tablas de fase de grupos\n",
    "\n",
    "def create_initial_table(list_teams):\n",
    "    dict_teams = {list_teams[0]: 0,\n",
    "                  list_teams[1]: 0, \n",
    "                  list_teams[2]: 0, \n",
    "                  list_teams[3]: 0}    \n",
    "    df = dict_to_df(dict_teams)\n",
    "    return df\n",
    "\n",
    "# Actualiza tablas de fase de grupos\n",
    "\n",
    "def update_group(df, result):\n",
    "    d = df_to_dict(df)    \n",
    "    if (result[0] not in list(d.keys()) or result[1] not in list(d.keys())):\n",
    "        return 'Error: equipo no perteneciente a este grupo'\n",
    "    \n",
    "    elif (result[2] not in ['1', '-1', '0']):\n",
    "        return 'Error: resultado incorrecto'    \n",
    "    else:\n",
    "        if result[2] == '1':\n",
    "            winner = result[0]\n",
    "            d[winner] +=3\n",
    "        elif result[2] == '2':\n",
    "            winner = result[1]\n",
    "            d[winner] +=3    \n",
    "        else:\n",
    "            tie1 = result[0]\n",
    "            tie2 = result[1]\n",
    "            d[tie1] +=1\n",
    "            d[tie2] +=1\n",
    "        df = dict_to_df(d).sort_values(by= 'Points', ascending = False)\n",
    "    return df\n"
   ]
  },
  {
   "cell_type": "markdown",
   "metadata": {},
   "source": [
    "## Fase de grupos"
   ]
  },
  {
   "cell_type": "markdown",
   "metadata": {},
   "source": [
    "Definimos los 8 grupos:"
   ]
  },
  {
   "cell_type": "code",
   "execution_count": 107,
   "metadata": {
    "collapsed": true
   },
   "outputs": [],
   "source": [
    "grupo_0 = ['ARABIA SAUDI','EGIPTO','URUGUAY', 'RUSIA']\n",
    "grupo_1 = ['PORTUGAL', 'ESPANIA', 'MARRUECOS', 'IRAN']\n",
    "grupo_2 = ['FRANCIA', 'AUSTRALIA', 'PERU', 'DINAMARCA']\n",
    "grupo_3 = ['ARGENTINA', 'ISLANDIA', 'CROACIA', 'NIGERIA']\n",
    "grupo_4 = ['BRASIL', 'SUIZA', 'COSTA RICA', 'SERBIA']\n",
    "grupo_5 = ['ALEMANIA', 'MEXICO', 'SUECIA', 'REP. DE COREA']\n",
    "grupo_6 = ['BELGICA', 'PANAMA', 'TUNEZ', 'INGLATERRA']\n",
    "grupo_7 = ['POLONIA', 'SENEGAL', 'COLOMBIA', 'JAPON']\n"
   ]
  },
  {
   "cell_type": "code",
   "execution_count": 108,
   "metadata": {
    "collapsed": true
   },
   "outputs": [],
   "source": [
    "lista_grupos = [grupo_0, \n",
    "                grupo_1,\n",
    "                grupo_2,\n",
    "                grupo_3,\n",
    "                grupo_4,\n",
    "                grupo_5,\n",
    "                grupo_6,\n",
    "                grupo_7]"
   ]
  },
  {
   "cell_type": "code",
   "execution_count": 109,
   "metadata": {},
   "outputs": [
    {
     "data": {
      "text/plain": [
       "['PORTUGAL', 'ESPANIA', 'MARRUECOS', 'IRAN']"
      ]
     },
     "execution_count": 109,
     "metadata": {},
     "output_type": "execute_result"
    }
   ],
   "source": [
    "lista_grupos[1]"
   ]
  },
  {
   "cell_type": "markdown",
   "metadata": {},
   "source": [
    "Simulamos los enfrentamientos:"
   ]
  },
  {
   "cell_type": "code",
   "execution_count": 110,
   "metadata": {
    "collapsed": true
   },
   "outputs": [],
   "source": [
    "todos_enfrentamientos = []\n",
    "\n",
    "for i in np.arange(0,8):\n",
    "    \n",
    "    enfrentamiento = []\n",
    "    \n",
    "    enfrentamiento.append([lista_grupos[i][0],lista_grupos[i][1]])\n",
    "    enfrentamiento.append([lista_grupos[i][0],lista_grupos[i][2]])\n",
    "    enfrentamiento.append([lista_grupos[i][0],lista_grupos[i][3]])\n",
    "    enfrentamiento.append([lista_grupos[i][1],lista_grupos[i][2]])\n",
    "    enfrentamiento.append([lista_grupos[i][1],lista_grupos[i][3]])\n",
    "    enfrentamiento.append([lista_grupos[i][2],lista_grupos[i][3]])\n",
    "\n",
    "\n",
    "    \n",
    "    todos_enfrentamientos.append(enfrentamiento)"
   ]
  },
  {
   "cell_type": "code",
   "execution_count": 111,
   "metadata": {
    "scrolled": true
   },
   "outputs": [
    {
     "data": {
      "text/plain": [
       "[['ARABIA SAUDI', 'EGIPTO'],\n",
       " ['ARABIA SAUDI', 'URUGUAY'],\n",
       " ['ARABIA SAUDI', 'RUSIA'],\n",
       " ['EGIPTO', 'URUGUAY'],\n",
       " ['EGIPTO', 'RUSIA'],\n",
       " ['URUGUAY', 'RUSIA']]"
      ]
     },
     "execution_count": 111,
     "metadata": {},
     "output_type": "execute_result"
    }
   ],
   "source": [
    "todos_enfrentamientos[0]"
   ]
  },
  {
   "cell_type": "markdown",
   "metadata": {},
   "source": [
    "En `todos_enfrentamientos` tenemos todos los enfrentamientos de la fase de grupos: todos_enfrentamientos[0] son los enfrentamientos del primer grupo, y `todos_enfrentamientos[0][0]` es el primer partido del primer grupo"
   ]
  },
  {
   "cell_type": "markdown",
   "metadata": {},
   "source": [
    "Generamos una lista cuyos elementos son la tabla de cada grupo:"
   ]
  },
  {
   "cell_type": "code",
   "execution_count": 112,
   "metadata": {
    "collapsed": true
   },
   "outputs": [],
   "source": [
    "lista_tablas_grupos = []\n",
    "\n",
    "for i in [grupo_0, \n",
    "          grupo_1, \n",
    "          grupo_2, \n",
    "          grupo_3, \n",
    "          grupo_4, \n",
    "          grupo_5, \n",
    "          grupo_6, \n",
    "          grupo_7]:\n",
    "    \n",
    "    df = create_initial_table(i)\n",
    "    lista_tablas_grupos.append(df)"
   ]
  },
  {
   "cell_type": "markdown",
   "metadata": {},
   "source": [
    "Simulamos la fase de grupos:"
   ]
  },
  {
   "cell_type": "code",
   "execution_count": 113,
   "metadata": {
    "collapsed": true,
    "scrolled": true
   },
   "outputs": [],
   "source": [
    "resultado_fase_grupos = []\n",
    "\n",
    "i = 0\n",
    "\n",
    "for grupo in todos_enfrentamientos:\n",
    "    \n",
    "    \n",
    "    resultado_fase_grupos.append(lista_tablas_grupos[i])\n",
    "    \n",
    "    for partido in grupo:\n",
    "    \n",
    "        resultado = predice_partido_con_empate(partido)\n",
    "        tabla = update_group(resultado_fase_grupos[-1],resultado)\n",
    "        resultado_fase_grupos.append(tabla)\n",
    "    i +=1"
   ]
  },
  {
   "cell_type": "markdown",
   "metadata": {},
   "source": [
    "El resultado de los grupos es: `resultado_fase_grupos`:\n",
    "\n",
    "`[6, 13, 20, 27, 34, 41, 48, 55]`\n",
    "\n"
   ]
  },
  {
   "cell_type": "code",
   "execution_count": 200,
   "metadata": {},
   "outputs": [
    {
     "data": {
      "text/html": [
       "<div>\n",
       "<style>\n",
       "    .dataframe thead tr:only-child th {\n",
       "        text-align: right;\n",
       "    }\n",
       "\n",
       "    .dataframe thead th {\n",
       "        text-align: left;\n",
       "    }\n",
       "\n",
       "    .dataframe tbody tr th {\n",
       "        vertical-align: top;\n",
       "    }\n",
       "</style>\n",
       "<table border=\"1\" class=\"dataframe\">\n",
       "  <thead>\n",
       "    <tr style=\"text-align: right;\">\n",
       "      <th></th>\n",
       "      <th>Team</th>\n",
       "      <th>Points</th>\n",
       "    </tr>\n",
       "  </thead>\n",
       "  <tbody>\n",
       "    <tr>\n",
       "      <th>0</th>\n",
       "      <td>POLONIA</td>\n",
       "      <td>7</td>\n",
       "    </tr>\n",
       "    <tr>\n",
       "      <th>1</th>\n",
       "      <td>COLOMBIA</td>\n",
       "      <td>2</td>\n",
       "    </tr>\n",
       "    <tr>\n",
       "      <th>2</th>\n",
       "      <td>SENEGAL</td>\n",
       "      <td>2</td>\n",
       "    </tr>\n",
       "    <tr>\n",
       "      <th>3</th>\n",
       "      <td>JAPON</td>\n",
       "      <td>1</td>\n",
       "    </tr>\n",
       "  </tbody>\n",
       "</table>\n",
       "</div>"
      ],
      "text/plain": [
       "       Team  Points\n",
       "0   POLONIA       7\n",
       "1  COLOMBIA       2\n",
       "2   SENEGAL       2\n",
       "3     JAPON       1"
      ]
     },
     "execution_count": 200,
     "metadata": {},
     "output_type": "execute_result"
    }
   ],
   "source": [
    "resultado_fase_grupos[54]"
   ]
  },
  {
   "cell_type": "code",
   "execution_count": 201,
   "metadata": {},
   "outputs": [
    {
     "data": {
      "text/html": [
       "<div>\n",
       "<style>\n",
       "    .dataframe thead tr:only-child th {\n",
       "        text-align: right;\n",
       "    }\n",
       "\n",
       "    .dataframe thead th {\n",
       "        text-align: left;\n",
       "    }\n",
       "\n",
       "    .dataframe tbody tr th {\n",
       "        vertical-align: top;\n",
       "    }\n",
       "</style>\n",
       "<table border=\"1\" class=\"dataframe\">\n",
       "  <thead>\n",
       "    <tr style=\"text-align: right;\">\n",
       "      <th></th>\n",
       "      <th>Team</th>\n",
       "      <th>Points</th>\n",
       "    </tr>\n",
       "  </thead>\n",
       "  <tbody>\n",
       "    <tr>\n",
       "      <th>0</th>\n",
       "      <td>POLONIA</td>\n",
       "      <td>7</td>\n",
       "    </tr>\n",
       "    <tr>\n",
       "      <th>1</th>\n",
       "      <td>COLOMBIA</td>\n",
       "      <td>5</td>\n",
       "    </tr>\n",
       "    <tr>\n",
       "      <th>2</th>\n",
       "      <td>SENEGAL</td>\n",
       "      <td>2</td>\n",
       "    </tr>\n",
       "    <tr>\n",
       "      <th>3</th>\n",
       "      <td>JAPON</td>\n",
       "      <td>1</td>\n",
       "    </tr>\n",
       "  </tbody>\n",
       "</table>\n",
       "</div>"
      ],
      "text/plain": [
       "       Team  Points\n",
       "0   POLONIA       7\n",
       "1  COLOMBIA       5\n",
       "2   SENEGAL       2\n",
       "3     JAPON       1"
      ]
     },
     "execution_count": 201,
     "metadata": {},
     "output_type": "execute_result"
    }
   ],
   "source": [
    "resultado_fase_grupos[55]"
   ]
  },
  {
   "cell_type": "markdown",
   "metadata": {},
   "source": [
    "#### Resultado grupo A"
   ]
  },
  {
   "cell_type": "code",
   "execution_count": 54,
   "metadata": {},
   "outputs": [
    {
     "data": {
      "text/html": [
       "<div>\n",
       "<style>\n",
       "    .dataframe thead tr:only-child th {\n",
       "        text-align: right;\n",
       "    }\n",
       "\n",
       "    .dataframe thead th {\n",
       "        text-align: left;\n",
       "    }\n",
       "\n",
       "    .dataframe tbody tr th {\n",
       "        vertical-align: top;\n",
       "    }\n",
       "</style>\n",
       "<table border=\"1\" class=\"dataframe\">\n",
       "  <thead>\n",
       "    <tr style=\"text-align: right;\">\n",
       "      <th></th>\n",
       "      <th>Team</th>\n",
       "      <th>Points</th>\n",
       "    </tr>\n",
       "  </thead>\n",
       "  <tbody>\n",
       "    <tr>\n",
       "      <th>2</th>\n",
       "      <td>URUGUAY</td>\n",
       "      <td>5</td>\n",
       "    </tr>\n",
       "    <tr>\n",
       "      <th>0</th>\n",
       "      <td>ARABIA SAUDI</td>\n",
       "      <td>3</td>\n",
       "    </tr>\n",
       "    <tr>\n",
       "      <th>1</th>\n",
       "      <td>EGIPTO</td>\n",
       "      <td>3</td>\n",
       "    </tr>\n",
       "    <tr>\n",
       "      <th>3</th>\n",
       "      <td>RUSIA</td>\n",
       "      <td>2</td>\n",
       "    </tr>\n",
       "  </tbody>\n",
       "</table>\n",
       "</div>"
      ],
      "text/plain": [
       "           Team  Points\n",
       "2       URUGUAY       5\n",
       "0  ARABIA SAUDI       3\n",
       "1        EGIPTO       3\n",
       "3         RUSIA       2"
      ]
     },
     "execution_count": 54,
     "metadata": {},
     "output_type": "execute_result"
    }
   ],
   "source": [
    "res_grupo_A = resultado_fase_grupos[6]\n",
    "res_grupo_A"
   ]
  },
  {
   "cell_type": "markdown",
   "metadata": {},
   "source": [
    "#### Resultado grupo B"
   ]
  },
  {
   "cell_type": "code",
   "execution_count": 55,
   "metadata": {},
   "outputs": [
    {
     "data": {
      "text/html": [
       "<div>\n",
       "<style>\n",
       "    .dataframe thead tr:only-child th {\n",
       "        text-align: right;\n",
       "    }\n",
       "\n",
       "    .dataframe thead th {\n",
       "        text-align: left;\n",
       "    }\n",
       "\n",
       "    .dataframe tbody tr th {\n",
       "        vertical-align: top;\n",
       "    }\n",
       "</style>\n",
       "<table border=\"1\" class=\"dataframe\">\n",
       "  <thead>\n",
       "    <tr style=\"text-align: right;\">\n",
       "      <th></th>\n",
       "      <th>Team</th>\n",
       "      <th>Points</th>\n",
       "    </tr>\n",
       "  </thead>\n",
       "  <tbody>\n",
       "    <tr>\n",
       "      <th>0</th>\n",
       "      <td>PORTUGAL</td>\n",
       "      <td>5</td>\n",
       "    </tr>\n",
       "    <tr>\n",
       "      <th>1</th>\n",
       "      <td>ESPANIA</td>\n",
       "      <td>5</td>\n",
       "    </tr>\n",
       "    <tr>\n",
       "      <th>2</th>\n",
       "      <td>IRAN</td>\n",
       "      <td>3</td>\n",
       "    </tr>\n",
       "    <tr>\n",
       "      <th>3</th>\n",
       "      <td>MARRUECOS</td>\n",
       "      <td>1</td>\n",
       "    </tr>\n",
       "  </tbody>\n",
       "</table>\n",
       "</div>"
      ],
      "text/plain": [
       "        Team  Points\n",
       "0   PORTUGAL       5\n",
       "1    ESPANIA       5\n",
       "2       IRAN       3\n",
       "3  MARRUECOS       1"
      ]
     },
     "execution_count": 55,
     "metadata": {},
     "output_type": "execute_result"
    }
   ],
   "source": [
    "res_grupo_B = resultado_fase_grupos[13]\n",
    "res_grupo_B"
   ]
  },
  {
   "cell_type": "markdown",
   "metadata": {},
   "source": [
    "#### Resultado grupo C"
   ]
  },
  {
   "cell_type": "code",
   "execution_count": 56,
   "metadata": {},
   "outputs": [
    {
     "data": {
      "text/html": [
       "<div>\n",
       "<style>\n",
       "    .dataframe thead tr:only-child th {\n",
       "        text-align: right;\n",
       "    }\n",
       "\n",
       "    .dataframe thead th {\n",
       "        text-align: left;\n",
       "    }\n",
       "\n",
       "    .dataframe tbody tr th {\n",
       "        vertical-align: top;\n",
       "    }\n",
       "</style>\n",
       "<table border=\"1\" class=\"dataframe\">\n",
       "  <thead>\n",
       "    <tr style=\"text-align: right;\">\n",
       "      <th></th>\n",
       "      <th>Team</th>\n",
       "      <th>Points</th>\n",
       "    </tr>\n",
       "  </thead>\n",
       "  <tbody>\n",
       "    <tr>\n",
       "      <th>0</th>\n",
       "      <td>FRANCIA</td>\n",
       "      <td>9</td>\n",
       "    </tr>\n",
       "    <tr>\n",
       "      <th>1</th>\n",
       "      <td>AUSTRALIA</td>\n",
       "      <td>2</td>\n",
       "    </tr>\n",
       "    <tr>\n",
       "      <th>2</th>\n",
       "      <td>PERU</td>\n",
       "      <td>2</td>\n",
       "    </tr>\n",
       "    <tr>\n",
       "      <th>3</th>\n",
       "      <td>DINAMARCA</td>\n",
       "      <td>2</td>\n",
       "    </tr>\n",
       "  </tbody>\n",
       "</table>\n",
       "</div>"
      ],
      "text/plain": [
       "        Team  Points\n",
       "0    FRANCIA       9\n",
       "1  AUSTRALIA       2\n",
       "2       PERU       2\n",
       "3  DINAMARCA       2"
      ]
     },
     "execution_count": 56,
     "metadata": {},
     "output_type": "execute_result"
    }
   ],
   "source": [
    "res_grupo_C = resultado_fase_grupos[20]\n",
    "res_grupo_C"
   ]
  },
  {
   "cell_type": "markdown",
   "metadata": {},
   "source": [
    "#### Resultado grupo D"
   ]
  },
  {
   "cell_type": "code",
   "execution_count": 57,
   "metadata": {},
   "outputs": [
    {
     "data": {
      "text/html": [
       "<div>\n",
       "<style>\n",
       "    .dataframe thead tr:only-child th {\n",
       "        text-align: right;\n",
       "    }\n",
       "\n",
       "    .dataframe thead th {\n",
       "        text-align: left;\n",
       "    }\n",
       "\n",
       "    .dataframe tbody tr th {\n",
       "        vertical-align: top;\n",
       "    }\n",
       "</style>\n",
       "<table border=\"1\" class=\"dataframe\">\n",
       "  <thead>\n",
       "    <tr style=\"text-align: right;\">\n",
       "      <th></th>\n",
       "      <th>Team</th>\n",
       "      <th>Points</th>\n",
       "    </tr>\n",
       "  </thead>\n",
       "  <tbody>\n",
       "    <tr>\n",
       "      <th>2</th>\n",
       "      <td>CROACIA</td>\n",
       "      <td>5</td>\n",
       "    </tr>\n",
       "    <tr>\n",
       "      <th>0</th>\n",
       "      <td>ARGENTINA</td>\n",
       "      <td>3</td>\n",
       "    </tr>\n",
       "    <tr>\n",
       "      <th>1</th>\n",
       "      <td>ISLANDIA</td>\n",
       "      <td>3</td>\n",
       "    </tr>\n",
       "    <tr>\n",
       "      <th>3</th>\n",
       "      <td>NIGERIA</td>\n",
       "      <td>2</td>\n",
       "    </tr>\n",
       "  </tbody>\n",
       "</table>\n",
       "</div>"
      ],
      "text/plain": [
       "        Team  Points\n",
       "2    CROACIA       5\n",
       "0  ARGENTINA       3\n",
       "1   ISLANDIA       3\n",
       "3    NIGERIA       2"
      ]
     },
     "execution_count": 57,
     "metadata": {},
     "output_type": "execute_result"
    }
   ],
   "source": [
    "res_grupo_D = resultado_fase_grupos[27]\n",
    "res_grupo_D"
   ]
  },
  {
   "cell_type": "markdown",
   "metadata": {},
   "source": [
    "#### Resultado grupo E"
   ]
  },
  {
   "cell_type": "code",
   "execution_count": 58,
   "metadata": {},
   "outputs": [
    {
     "data": {
      "text/html": [
       "<div>\n",
       "<style>\n",
       "    .dataframe thead tr:only-child th {\n",
       "        text-align: right;\n",
       "    }\n",
       "\n",
       "    .dataframe thead th {\n",
       "        text-align: left;\n",
       "    }\n",
       "\n",
       "    .dataframe tbody tr th {\n",
       "        vertical-align: top;\n",
       "    }\n",
       "</style>\n",
       "<table border=\"1\" class=\"dataframe\">\n",
       "  <thead>\n",
       "    <tr style=\"text-align: right;\">\n",
       "      <th></th>\n",
       "      <th>Team</th>\n",
       "      <th>Points</th>\n",
       "    </tr>\n",
       "  </thead>\n",
       "  <tbody>\n",
       "    <tr>\n",
       "      <th>0</th>\n",
       "      <td>BRASIL</td>\n",
       "      <td>7</td>\n",
       "    </tr>\n",
       "    <tr>\n",
       "      <th>1</th>\n",
       "      <td>SUIZA</td>\n",
       "      <td>3</td>\n",
       "    </tr>\n",
       "    <tr>\n",
       "      <th>2</th>\n",
       "      <td>COSTA RICA</td>\n",
       "      <td>2</td>\n",
       "    </tr>\n",
       "    <tr>\n",
       "      <th>3</th>\n",
       "      <td>SERBIA</td>\n",
       "      <td>2</td>\n",
       "    </tr>\n",
       "  </tbody>\n",
       "</table>\n",
       "</div>"
      ],
      "text/plain": [
       "         Team  Points\n",
       "0      BRASIL       7\n",
       "1       SUIZA       3\n",
       "2  COSTA RICA       2\n",
       "3      SERBIA       2"
      ]
     },
     "execution_count": 58,
     "metadata": {},
     "output_type": "execute_result"
    }
   ],
   "source": [
    "res_grupo_E = resultado_fase_grupos[34]\n",
    "res_grupo_E"
   ]
  },
  {
   "cell_type": "markdown",
   "metadata": {},
   "source": [
    "#### Resultado grupo F"
   ]
  },
  {
   "cell_type": "code",
   "execution_count": 59,
   "metadata": {},
   "outputs": [
    {
     "data": {
      "text/html": [
       "<div>\n",
       "<style>\n",
       "    .dataframe thead tr:only-child th {\n",
       "        text-align: right;\n",
       "    }\n",
       "\n",
       "    .dataframe thead th {\n",
       "        text-align: left;\n",
       "    }\n",
       "\n",
       "    .dataframe tbody tr th {\n",
       "        vertical-align: top;\n",
       "    }\n",
       "</style>\n",
       "<table border=\"1\" class=\"dataframe\">\n",
       "  <thead>\n",
       "    <tr style=\"text-align: right;\">\n",
       "      <th></th>\n",
       "      <th>Team</th>\n",
       "      <th>Points</th>\n",
       "    </tr>\n",
       "  </thead>\n",
       "  <tbody>\n",
       "    <tr>\n",
       "      <th>0</th>\n",
       "      <td>ALEMANIA</td>\n",
       "      <td>5</td>\n",
       "    </tr>\n",
       "    <tr>\n",
       "      <th>1</th>\n",
       "      <td>MEXICO</td>\n",
       "      <td>5</td>\n",
       "    </tr>\n",
       "    <tr>\n",
       "      <th>2</th>\n",
       "      <td>SUECIA</td>\n",
       "      <td>3</td>\n",
       "    </tr>\n",
       "    <tr>\n",
       "      <th>3</th>\n",
       "      <td>REP. DE COREA</td>\n",
       "      <td>1</td>\n",
       "    </tr>\n",
       "  </tbody>\n",
       "</table>\n",
       "</div>"
      ],
      "text/plain": [
       "            Team  Points\n",
       "0       ALEMANIA       5\n",
       "1         MEXICO       5\n",
       "2         SUECIA       3\n",
       "3  REP. DE COREA       1"
      ]
     },
     "execution_count": 59,
     "metadata": {},
     "output_type": "execute_result"
    }
   ],
   "source": [
    "res_grupo_F = resultado_fase_grupos[41]\n",
    "res_grupo_F"
   ]
  },
  {
   "cell_type": "markdown",
   "metadata": {},
   "source": [
    "#### Resultado grupo G"
   ]
  },
  {
   "cell_type": "code",
   "execution_count": 60,
   "metadata": {},
   "outputs": [
    {
     "data": {
      "text/html": [
       "<div>\n",
       "<style>\n",
       "    .dataframe thead tr:only-child th {\n",
       "        text-align: right;\n",
       "    }\n",
       "\n",
       "    .dataframe thead th {\n",
       "        text-align: left;\n",
       "    }\n",
       "\n",
       "    .dataframe tbody tr th {\n",
       "        vertical-align: top;\n",
       "    }\n",
       "</style>\n",
       "<table border=\"1\" class=\"dataframe\">\n",
       "  <thead>\n",
       "    <tr style=\"text-align: right;\">\n",
       "      <th></th>\n",
       "      <th>Team</th>\n",
       "      <th>Points</th>\n",
       "    </tr>\n",
       "  </thead>\n",
       "  <tbody>\n",
       "    <tr>\n",
       "      <th>0</th>\n",
       "      <td>BELGICA</td>\n",
       "      <td>7</td>\n",
       "    </tr>\n",
       "    <tr>\n",
       "      <th>1</th>\n",
       "      <td>INGLATERRA</td>\n",
       "      <td>3</td>\n",
       "    </tr>\n",
       "    <tr>\n",
       "      <th>2</th>\n",
       "      <td>PANAMA</td>\n",
       "      <td>2</td>\n",
       "    </tr>\n",
       "    <tr>\n",
       "      <th>3</th>\n",
       "      <td>TUNEZ</td>\n",
       "      <td>2</td>\n",
       "    </tr>\n",
       "  </tbody>\n",
       "</table>\n",
       "</div>"
      ],
      "text/plain": [
       "         Team  Points\n",
       "0     BELGICA       7\n",
       "1  INGLATERRA       3\n",
       "2      PANAMA       2\n",
       "3       TUNEZ       2"
      ]
     },
     "execution_count": 60,
     "metadata": {},
     "output_type": "execute_result"
    }
   ],
   "source": [
    "res_grupo_G = resultado_fase_grupos[48]\n",
    "res_grupo_G"
   ]
  },
  {
   "cell_type": "markdown",
   "metadata": {},
   "source": [
    "#### Resultado grupo H"
   ]
  },
  {
   "cell_type": "code",
   "execution_count": 61,
   "metadata": {},
   "outputs": [
    {
     "data": {
      "text/html": [
       "<div>\n",
       "<style>\n",
       "    .dataframe thead tr:only-child th {\n",
       "        text-align: right;\n",
       "    }\n",
       "\n",
       "    .dataframe thead th {\n",
       "        text-align: left;\n",
       "    }\n",
       "\n",
       "    .dataframe tbody tr th {\n",
       "        vertical-align: top;\n",
       "    }\n",
       "</style>\n",
       "<table border=\"1\" class=\"dataframe\">\n",
       "  <thead>\n",
       "    <tr style=\"text-align: right;\">\n",
       "      <th></th>\n",
       "      <th>Team</th>\n",
       "      <th>Points</th>\n",
       "    </tr>\n",
       "  </thead>\n",
       "  <tbody>\n",
       "    <tr>\n",
       "      <th>0</th>\n",
       "      <td>POLONIA</td>\n",
       "      <td>7</td>\n",
       "    </tr>\n",
       "    <tr>\n",
       "      <th>1</th>\n",
       "      <td>COLOMBIA</td>\n",
       "      <td>5</td>\n",
       "    </tr>\n",
       "    <tr>\n",
       "      <th>2</th>\n",
       "      <td>SENEGAL</td>\n",
       "      <td>2</td>\n",
       "    </tr>\n",
       "    <tr>\n",
       "      <th>3</th>\n",
       "      <td>JAPON</td>\n",
       "      <td>1</td>\n",
       "    </tr>\n",
       "  </tbody>\n",
       "</table>\n",
       "</div>"
      ],
      "text/plain": [
       "       Team  Points\n",
       "0   POLONIA       7\n",
       "1  COLOMBIA       5\n",
       "2   SENEGAL       2\n",
       "3     JAPON       1"
      ]
     },
     "execution_count": 61,
     "metadata": {},
     "output_type": "execute_result"
    }
   ],
   "source": [
    "res_grupo_H = resultado_fase_grupos[55]\n",
    "res_grupo_H"
   ]
  },
  {
   "cell_type": "markdown",
   "metadata": {},
   "source": [
    "En caso de empates, pasa el de mayor media:"
   ]
  },
  {
   "cell_type": "code",
   "execution_count": 62,
   "metadata": {
    "collapsed": true
   },
   "outputs": [],
   "source": [
    "# Metemos todas las tablas de grupos en una lista\n",
    "\n",
    "lista_tablas2 = [res_grupo_A, \n",
    "                 res_grupo_B, \n",
    "                 res_grupo_C, \n",
    "                 res_grupo_D,\n",
    "                 res_grupo_E, \n",
    "                 res_grupo_F, \n",
    "                 res_grupo_G, \n",
    "                 res_grupo_H,]"
   ]
  },
  {
   "cell_type": "code",
   "execution_count": 63,
   "metadata": {
    "collapsed": true
   },
   "outputs": [],
   "source": [
    "aux_desempate = df1[['Country', 'Punt_Media_Eq']]\n",
    "lista3 = []\n",
    "\n",
    "for grupo in lista_tablas2:\n",
    "    grupo_desemp = grupo.merge(aux_desempate, \n",
    "                                       left_on='Team', \n",
    "                                       right_on='Country', \n",
    "                                       how='inner').drop('Country', axis=1)\n",
    "    grupo_desemp_2 = grupo_desemp.sort_values(by=['Points', 'Punt_Media_Eq'], ascending=False)\n",
    "    lista3.append(grupo_desemp_2)"
   ]
  },
  {
   "cell_type": "markdown",
   "metadata": {},
   "source": [
    "Los grupos quedan:"
   ]
  },
  {
   "cell_type": "markdown",
   "metadata": {},
   "source": [
    "#### Resultado definitivo grupo A"
   ]
  },
  {
   "cell_type": "code",
   "execution_count": 64,
   "metadata": {
    "scrolled": true
   },
   "outputs": [
    {
     "data": {
      "text/html": [
       "<div>\n",
       "<style>\n",
       "    .dataframe thead tr:only-child th {\n",
       "        text-align: right;\n",
       "    }\n",
       "\n",
       "    .dataframe thead th {\n",
       "        text-align: left;\n",
       "    }\n",
       "\n",
       "    .dataframe tbody tr th {\n",
       "        vertical-align: top;\n",
       "    }\n",
       "</style>\n",
       "<table border=\"1\" class=\"dataframe\">\n",
       "  <thead>\n",
       "    <tr style=\"text-align: right;\">\n",
       "      <th></th>\n",
       "      <th>Team</th>\n",
       "      <th>Points</th>\n",
       "      <th>Punt_Media_Eq</th>\n",
       "    </tr>\n",
       "  </thead>\n",
       "  <tbody>\n",
       "    <tr>\n",
       "      <th>0</th>\n",
       "      <td>URUGUAY</td>\n",
       "      <td>5</td>\n",
       "      <td>81.000000</td>\n",
       "    </tr>\n",
       "    <tr>\n",
       "      <th>2</th>\n",
       "      <td>EGIPTO</td>\n",
       "      <td>3</td>\n",
       "      <td>76.000000</td>\n",
       "    </tr>\n",
       "    <tr>\n",
       "      <th>1</th>\n",
       "      <td>ARABIA SAUDI</td>\n",
       "      <td>3</td>\n",
       "      <td>71.333333</td>\n",
       "    </tr>\n",
       "    <tr>\n",
       "      <th>3</th>\n",
       "      <td>RUSIA</td>\n",
       "      <td>2</td>\n",
       "      <td>77.000000</td>\n",
       "    </tr>\n",
       "  </tbody>\n",
       "</table>\n",
       "</div>"
      ],
      "text/plain": [
       "           Team  Points  Punt_Media_Eq\n",
       "0       URUGUAY       5      81.000000\n",
       "2        EGIPTO       3      76.000000\n",
       "1  ARABIA SAUDI       3      71.333333\n",
       "3         RUSIA       2      77.000000"
      ]
     },
     "execution_count": 64,
     "metadata": {},
     "output_type": "execute_result"
    }
   ],
   "source": [
    "lista3[0]"
   ]
  },
  {
   "cell_type": "markdown",
   "metadata": {},
   "source": [
    "#### Resultado definitivo grupo B"
   ]
  },
  {
   "cell_type": "code",
   "execution_count": 65,
   "metadata": {},
   "outputs": [
    {
     "data": {
      "text/html": [
       "<div>\n",
       "<style>\n",
       "    .dataframe thead tr:only-child th {\n",
       "        text-align: right;\n",
       "    }\n",
       "\n",
       "    .dataframe thead th {\n",
       "        text-align: left;\n",
       "    }\n",
       "\n",
       "    .dataframe tbody tr th {\n",
       "        vertical-align: top;\n",
       "    }\n",
       "</style>\n",
       "<table border=\"1\" class=\"dataframe\">\n",
       "  <thead>\n",
       "    <tr style=\"text-align: right;\">\n",
       "      <th></th>\n",
       "      <th>Team</th>\n",
       "      <th>Points</th>\n",
       "      <th>Punt_Media_Eq</th>\n",
       "    </tr>\n",
       "  </thead>\n",
       "  <tbody>\n",
       "    <tr>\n",
       "      <th>1</th>\n",
       "      <td>ESPANIA</td>\n",
       "      <td>5</td>\n",
       "      <td>85.000000</td>\n",
       "    </tr>\n",
       "    <tr>\n",
       "      <th>0</th>\n",
       "      <td>PORTUGAL</td>\n",
       "      <td>5</td>\n",
       "      <td>84.333333</td>\n",
       "    </tr>\n",
       "    <tr>\n",
       "      <th>2</th>\n",
       "      <td>IRAN</td>\n",
       "      <td>3</td>\n",
       "      <td>73.000000</td>\n",
       "    </tr>\n",
       "    <tr>\n",
       "      <th>3</th>\n",
       "      <td>MARRUECOS</td>\n",
       "      <td>1</td>\n",
       "      <td>76.000000</td>\n",
       "    </tr>\n",
       "  </tbody>\n",
       "</table>\n",
       "</div>"
      ],
      "text/plain": [
       "        Team  Points  Punt_Media_Eq\n",
       "1    ESPANIA       5      85.000000\n",
       "0   PORTUGAL       5      84.333333\n",
       "2       IRAN       3      73.000000\n",
       "3  MARRUECOS       1      76.000000"
      ]
     },
     "execution_count": 65,
     "metadata": {},
     "output_type": "execute_result"
    }
   ],
   "source": [
    "lista3[1]"
   ]
  },
  {
   "cell_type": "markdown",
   "metadata": {},
   "source": [
    "#### Resultado definitivo grupo C"
   ]
  },
  {
   "cell_type": "code",
   "execution_count": 66,
   "metadata": {
    "scrolled": true
   },
   "outputs": [
    {
     "data": {
      "text/html": [
       "<div>\n",
       "<style>\n",
       "    .dataframe thead tr:only-child th {\n",
       "        text-align: right;\n",
       "    }\n",
       "\n",
       "    .dataframe thead th {\n",
       "        text-align: left;\n",
       "    }\n",
       "\n",
       "    .dataframe tbody tr th {\n",
       "        vertical-align: top;\n",
       "    }\n",
       "</style>\n",
       "<table border=\"1\" class=\"dataframe\">\n",
       "  <thead>\n",
       "    <tr style=\"text-align: right;\">\n",
       "      <th></th>\n",
       "      <th>Team</th>\n",
       "      <th>Points</th>\n",
       "      <th>Punt_Media_Eq</th>\n",
       "    </tr>\n",
       "  </thead>\n",
       "  <tbody>\n",
       "    <tr>\n",
       "      <th>0</th>\n",
       "      <td>FRANCIA</td>\n",
       "      <td>9</td>\n",
       "      <td>84.000000</td>\n",
       "    </tr>\n",
       "    <tr>\n",
       "      <th>3</th>\n",
       "      <td>DINAMARCA</td>\n",
       "      <td>2</td>\n",
       "      <td>76.666667</td>\n",
       "    </tr>\n",
       "    <tr>\n",
       "      <th>2</th>\n",
       "      <td>PERU</td>\n",
       "      <td>2</td>\n",
       "      <td>75.666667</td>\n",
       "    </tr>\n",
       "    <tr>\n",
       "      <th>1</th>\n",
       "      <td>AUSTRALIA</td>\n",
       "      <td>2</td>\n",
       "      <td>70.666667</td>\n",
       "    </tr>\n",
       "  </tbody>\n",
       "</table>\n",
       "</div>"
      ],
      "text/plain": [
       "        Team  Points  Punt_Media_Eq\n",
       "0    FRANCIA       9      84.000000\n",
       "3  DINAMARCA       2      76.666667\n",
       "2       PERU       2      75.666667\n",
       "1  AUSTRALIA       2      70.666667"
      ]
     },
     "execution_count": 66,
     "metadata": {},
     "output_type": "execute_result"
    }
   ],
   "source": [
    "lista3[2]"
   ]
  },
  {
   "cell_type": "markdown",
   "metadata": {},
   "source": [
    "#### Resultado definitivo grupo D"
   ]
  },
  {
   "cell_type": "code",
   "execution_count": 67,
   "metadata": {},
   "outputs": [
    {
     "data": {
      "text/html": [
       "<div>\n",
       "<style>\n",
       "    .dataframe thead tr:only-child th {\n",
       "        text-align: right;\n",
       "    }\n",
       "\n",
       "    .dataframe thead th {\n",
       "        text-align: left;\n",
       "    }\n",
       "\n",
       "    .dataframe tbody tr th {\n",
       "        vertical-align: top;\n",
       "    }\n",
       "</style>\n",
       "<table border=\"1\" class=\"dataframe\">\n",
       "  <thead>\n",
       "    <tr style=\"text-align: right;\">\n",
       "      <th></th>\n",
       "      <th>Team</th>\n",
       "      <th>Points</th>\n",
       "      <th>Punt_Media_Eq</th>\n",
       "    </tr>\n",
       "  </thead>\n",
       "  <tbody>\n",
       "    <tr>\n",
       "      <th>0</th>\n",
       "      <td>CROACIA</td>\n",
       "      <td>5</td>\n",
       "      <td>80.333333</td>\n",
       "    </tr>\n",
       "    <tr>\n",
       "      <th>1</th>\n",
       "      <td>ARGENTINA</td>\n",
       "      <td>3</td>\n",
       "      <td>83.333333</td>\n",
       "    </tr>\n",
       "    <tr>\n",
       "      <th>2</th>\n",
       "      <td>ISLANDIA</td>\n",
       "      <td>3</td>\n",
       "      <td>76.000000</td>\n",
       "    </tr>\n",
       "    <tr>\n",
       "      <th>3</th>\n",
       "      <td>NIGERIA</td>\n",
       "      <td>2</td>\n",
       "      <td>74.333333</td>\n",
       "    </tr>\n",
       "  </tbody>\n",
       "</table>\n",
       "</div>"
      ],
      "text/plain": [
       "        Team  Points  Punt_Media_Eq\n",
       "0    CROACIA       5      80.333333\n",
       "1  ARGENTINA       3      83.333333\n",
       "2   ISLANDIA       3      76.000000\n",
       "3    NIGERIA       2      74.333333"
      ]
     },
     "execution_count": 67,
     "metadata": {},
     "output_type": "execute_result"
    }
   ],
   "source": [
    "lista3[3]"
   ]
  },
  {
   "cell_type": "markdown",
   "metadata": {},
   "source": [
    "#### Resultado definitivo grupo E"
   ]
  },
  {
   "cell_type": "code",
   "execution_count": 68,
   "metadata": {
    "scrolled": true
   },
   "outputs": [
    {
     "data": {
      "text/html": [
       "<div>\n",
       "<style>\n",
       "    .dataframe thead tr:only-child th {\n",
       "        text-align: right;\n",
       "    }\n",
       "\n",
       "    .dataframe thead th {\n",
       "        text-align: left;\n",
       "    }\n",
       "\n",
       "    .dataframe tbody tr th {\n",
       "        vertical-align: top;\n",
       "    }\n",
       "</style>\n",
       "<table border=\"1\" class=\"dataframe\">\n",
       "  <thead>\n",
       "    <tr style=\"text-align: right;\">\n",
       "      <th></th>\n",
       "      <th>Team</th>\n",
       "      <th>Points</th>\n",
       "      <th>Punt_Media_Eq</th>\n",
       "    </tr>\n",
       "  </thead>\n",
       "  <tbody>\n",
       "    <tr>\n",
       "      <th>0</th>\n",
       "      <td>BRASIL</td>\n",
       "      <td>7</td>\n",
       "      <td>86.000000</td>\n",
       "    </tr>\n",
       "    <tr>\n",
       "      <th>1</th>\n",
       "      <td>SUIZA</td>\n",
       "      <td>3</td>\n",
       "      <td>77.000000</td>\n",
       "    </tr>\n",
       "    <tr>\n",
       "      <th>3</th>\n",
       "      <td>SERBIA</td>\n",
       "      <td>2</td>\n",
       "      <td>77.666667</td>\n",
       "    </tr>\n",
       "    <tr>\n",
       "      <th>2</th>\n",
       "      <td>COSTA RICA</td>\n",
       "      <td>2</td>\n",
       "      <td>71.666667</td>\n",
       "    </tr>\n",
       "  </tbody>\n",
       "</table>\n",
       "</div>"
      ],
      "text/plain": [
       "         Team  Points  Punt_Media_Eq\n",
       "0      BRASIL       7      86.000000\n",
       "1       SUIZA       3      77.000000\n",
       "3      SERBIA       2      77.666667\n",
       "2  COSTA RICA       2      71.666667"
      ]
     },
     "execution_count": 68,
     "metadata": {},
     "output_type": "execute_result"
    }
   ],
   "source": [
    "lista3[4]"
   ]
  },
  {
   "cell_type": "markdown",
   "metadata": {},
   "source": [
    "#### Resultado definitivo grupo F"
   ]
  },
  {
   "cell_type": "code",
   "execution_count": 69,
   "metadata": {},
   "outputs": [
    {
     "data": {
      "text/html": [
       "<div>\n",
       "<style>\n",
       "    .dataframe thead tr:only-child th {\n",
       "        text-align: right;\n",
       "    }\n",
       "\n",
       "    .dataframe thead th {\n",
       "        text-align: left;\n",
       "    }\n",
       "\n",
       "    .dataframe tbody tr th {\n",
       "        vertical-align: top;\n",
       "    }\n",
       "</style>\n",
       "<table border=\"1\" class=\"dataframe\">\n",
       "  <thead>\n",
       "    <tr style=\"text-align: right;\">\n",
       "      <th></th>\n",
       "      <th>Team</th>\n",
       "      <th>Points</th>\n",
       "      <th>Punt_Media_Eq</th>\n",
       "    </tr>\n",
       "  </thead>\n",
       "  <tbody>\n",
       "    <tr>\n",
       "      <th>0</th>\n",
       "      <td>ALEMANIA</td>\n",
       "      <td>5</td>\n",
       "      <td>85.0</td>\n",
       "    </tr>\n",
       "    <tr>\n",
       "      <th>1</th>\n",
       "      <td>MEXICO</td>\n",
       "      <td>5</td>\n",
       "      <td>79.0</td>\n",
       "    </tr>\n",
       "    <tr>\n",
       "      <th>2</th>\n",
       "      <td>SUECIA</td>\n",
       "      <td>3</td>\n",
       "      <td>77.0</td>\n",
       "    </tr>\n",
       "    <tr>\n",
       "      <th>3</th>\n",
       "      <td>REP. DE COREA</td>\n",
       "      <td>1</td>\n",
       "      <td>71.0</td>\n",
       "    </tr>\n",
       "  </tbody>\n",
       "</table>\n",
       "</div>"
      ],
      "text/plain": [
       "            Team  Points  Punt_Media_Eq\n",
       "0       ALEMANIA       5           85.0\n",
       "1         MEXICO       5           79.0\n",
       "2         SUECIA       3           77.0\n",
       "3  REP. DE COREA       1           71.0"
      ]
     },
     "execution_count": 69,
     "metadata": {},
     "output_type": "execute_result"
    }
   ],
   "source": [
    "lista3[5]"
   ]
  },
  {
   "cell_type": "markdown",
   "metadata": {},
   "source": [
    "#### Resultado definitivo grupo G"
   ]
  },
  {
   "cell_type": "code",
   "execution_count": 70,
   "metadata": {},
   "outputs": [
    {
     "data": {
      "text/html": [
       "<div>\n",
       "<style>\n",
       "    .dataframe thead tr:only-child th {\n",
       "        text-align: right;\n",
       "    }\n",
       "\n",
       "    .dataframe thead th {\n",
       "        text-align: left;\n",
       "    }\n",
       "\n",
       "    .dataframe tbody tr th {\n",
       "        vertical-align: top;\n",
       "    }\n",
       "</style>\n",
       "<table border=\"1\" class=\"dataframe\">\n",
       "  <thead>\n",
       "    <tr style=\"text-align: right;\">\n",
       "      <th></th>\n",
       "      <th>Team</th>\n",
       "      <th>Points</th>\n",
       "      <th>Punt_Media_Eq</th>\n",
       "    </tr>\n",
       "  </thead>\n",
       "  <tbody>\n",
       "    <tr>\n",
       "      <th>0</th>\n",
       "      <td>BELGICA</td>\n",
       "      <td>7</td>\n",
       "      <td>83.666667</td>\n",
       "    </tr>\n",
       "    <tr>\n",
       "      <th>1</th>\n",
       "      <td>INGLATERRA</td>\n",
       "      <td>3</td>\n",
       "      <td>81.666667</td>\n",
       "    </tr>\n",
       "    <tr>\n",
       "      <th>3</th>\n",
       "      <td>TUNEZ</td>\n",
       "      <td>2</td>\n",
       "      <td>71.333333</td>\n",
       "    </tr>\n",
       "    <tr>\n",
       "      <th>2</th>\n",
       "      <td>PANAMA</td>\n",
       "      <td>2</td>\n",
       "      <td>68.666667</td>\n",
       "    </tr>\n",
       "  </tbody>\n",
       "</table>\n",
       "</div>"
      ],
      "text/plain": [
       "         Team  Points  Punt_Media_Eq\n",
       "0     BELGICA       7      83.666667\n",
       "1  INGLATERRA       3      81.666667\n",
       "3       TUNEZ       2      71.333333\n",
       "2      PANAMA       2      68.666667"
      ]
     },
     "execution_count": 70,
     "metadata": {},
     "output_type": "execute_result"
    }
   ],
   "source": [
    "lista3[6]"
   ]
  },
  {
   "cell_type": "markdown",
   "metadata": {},
   "source": [
    "#### Resultado definitivo grupo H"
   ]
  },
  {
   "cell_type": "code",
   "execution_count": 71,
   "metadata": {},
   "outputs": [
    {
     "data": {
      "text/html": [
       "<div>\n",
       "<style>\n",
       "    .dataframe thead tr:only-child th {\n",
       "        text-align: right;\n",
       "    }\n",
       "\n",
       "    .dataframe thead th {\n",
       "        text-align: left;\n",
       "    }\n",
       "\n",
       "    .dataframe tbody tr th {\n",
       "        vertical-align: top;\n",
       "    }\n",
       "</style>\n",
       "<table border=\"1\" class=\"dataframe\">\n",
       "  <thead>\n",
       "    <tr style=\"text-align: right;\">\n",
       "      <th></th>\n",
       "      <th>Team</th>\n",
       "      <th>Points</th>\n",
       "      <th>Punt_Media_Eq</th>\n",
       "    </tr>\n",
       "  </thead>\n",
       "  <tbody>\n",
       "    <tr>\n",
       "      <th>0</th>\n",
       "      <td>POLONIA</td>\n",
       "      <td>7</td>\n",
       "      <td>79.666667</td>\n",
       "    </tr>\n",
       "    <tr>\n",
       "      <th>1</th>\n",
       "      <td>COLOMBIA</td>\n",
       "      <td>5</td>\n",
       "      <td>79.333333</td>\n",
       "    </tr>\n",
       "    <tr>\n",
       "      <th>2</th>\n",
       "      <td>SENEGAL</td>\n",
       "      <td>2</td>\n",
       "      <td>76.666667</td>\n",
       "    </tr>\n",
       "    <tr>\n",
       "      <th>3</th>\n",
       "      <td>JAPON</td>\n",
       "      <td>1</td>\n",
       "      <td>75.333333</td>\n",
       "    </tr>\n",
       "  </tbody>\n",
       "</table>\n",
       "</div>"
      ],
      "text/plain": [
       "       Team  Points  Punt_Media_Eq\n",
       "0   POLONIA       7      79.666667\n",
       "1  COLOMBIA       5      79.333333\n",
       "2   SENEGAL       2      76.666667\n",
       "3     JAPON       1      75.333333"
      ]
     },
     "execution_count": 71,
     "metadata": {},
     "output_type": "execute_result"
    }
   ],
   "source": [
    "lista3[7]"
   ]
  },
  {
   "cell_type": "markdown",
   "metadata": {},
   "source": [
    "16:00 1C - 2D (50) (Kazan)\n",
    "\n",
    "20:00 1A - 2B (49) (Sochi)\n",
    "\n",
    "16:00 1B - 2A (51) (Moscú Luzhniki)\n",
    "\n",
    "20:00 1D - 2C (52) (Nizhny Novgorod)\n",
    "\n",
    "16:00 1E - 2F (53) (Samara)\n",
    "\n",
    "20:00 1G - 2H (54) (Rostov)\n",
    "\n",
    "16:00 1F - 2E (55) (San Petersburgo)\n",
    "\n",
    "20:00 1H - 2G (56) (Moscú Spartak)"
   ]
  },
  {
   "cell_type": "markdown",
   "metadata": {},
   "source": [
    "## Octavos"
   ]
  },
  {
   "cell_type": "code",
   "execution_count": 72,
   "metadata": {
    "collapsed": true
   },
   "outputs": [],
   "source": [
    "octavos_50 = [lista3[2]['Team'].iloc[0], lista3[3]['Team'].iloc[1]]\n",
    "octavos_49 = [lista3[0]['Team'].iloc[0], lista3[1]['Team'].iloc[1]]\n",
    "octavos_51 = [lista3[1]['Team'].iloc[0], lista3[0]['Team'].iloc[1]]\n",
    "octavos_52 = [lista3[3]['Team'].iloc[0], lista3[2]['Team'].iloc[1]]\n",
    "octavos_53 = [lista3[4]['Team'].iloc[0], lista3[5]['Team'].iloc[1]]\n",
    "octavos_54 = [lista3[6]['Team'].iloc[0], lista3[7]['Team'].iloc[1]]\n",
    "octavos_55 = [lista3[5]['Team'].iloc[0], lista3[4]['Team'].iloc[1]]\n",
    "octavos_56 = [lista3[7]['Team'].iloc[0], lista3[6]['Team'].iloc[1]]"
   ]
  },
  {
   "cell_type": "markdown",
   "metadata": {},
   "source": [
    "Los partidos de octavos son:"
   ]
  },
  {
   "cell_type": "code",
   "execution_count": 73,
   "metadata": {},
   "outputs": [
    {
     "name": "stdout",
     "output_type": "stream",
     "text": [
      "['FRANCIA', 'ARGENTINA']\n",
      "['URUGUAY', 'PORTUGAL']\n",
      "['ESPANIA', 'EGIPTO']\n",
      "['CROACIA', 'DINAMARCA']\n",
      "['BRASIL', 'MEXICO']\n",
      "['BELGICA', 'COLOMBIA']\n",
      "['ALEMANIA', 'SUIZA']\n",
      "['POLONIA', 'INGLATERRA']\n"
     ]
    }
   ],
   "source": [
    "print(octavos_50)\n",
    "print(octavos_49)\n",
    "print(octavos_51)\n",
    "print(octavos_52)\n",
    "print(octavos_53)\n",
    "print(octavos_54)\n",
    "print(octavos_55)\n",
    "print(octavos_56)"
   ]
  },
  {
   "cell_type": "code",
   "execution_count": 74,
   "metadata": {
    "collapsed": true
   },
   "outputs": [],
   "source": [
    "partidos_octavos = [octavos_50,\n",
    "                     octavos_49,\n",
    "                     octavos_51,\n",
    "                     octavos_52,\n",
    "                     octavos_53,\n",
    "                     octavos_54,\n",
    "                     octavos_55,\n",
    "                     octavos_56]\n",
    "\n",
    "resultados_octavos = []\n",
    "\n",
    "for partido in partidos_octavos:\n",
    "    resultado = predice_partido_sin_empate(partido)\n",
    "    if resultado[2] == '1':\n",
    "        resultados_octavos.append(resultado[0])\n",
    "    elif resultado[2] == '-1':\n",
    "        resultados_octavos.append(resultado[1])\n",
    "    else:\n",
    "        resultados_octavos.append('EMPATE')\n",
    "    "
   ]
  },
  {
   "cell_type": "code",
   "execution_count": 75,
   "metadata": {
    "scrolled": true
   },
   "outputs": [
    {
     "data": {
      "text/plain": [
       "['FRANCIA',\n",
       " 'PORTUGAL',\n",
       " 'ESPANIA',\n",
       " 'CROACIA',\n",
       " 'BRASIL',\n",
       " 'BELGICA',\n",
       " 'ALEMANIA',\n",
       " 'INGLATERRA']"
      ]
     },
     "execution_count": 75,
     "metadata": {},
     "output_type": "execute_result"
    }
   ],
   "source": [
    "resultados_octavos"
   ]
  },
  {
   "cell_type": "markdown",
   "metadata": {},
   "source": [
    "## Cuartos "
   ]
  },
  {
   "cell_type": "markdown",
   "metadata": {},
   "source": [
    "Ganador 49 - Ganador 50 (57) (Nizhny Novgorod)\n",
    "\n",
    "Ganador 53 - Ganador 54 (58) (Kazan)\n",
    "\n",
    "Ganador 55 - Ganador 56 (60) (Samara)\n",
    "\n",
    "Ganador 51 - Ganador 52 (59) (Sochi)"
   ]
  },
  {
   "cell_type": "markdown",
   "metadata": {},
   "source": [
    "Los partidos de cuartos son:"
   ]
  },
  {
   "cell_type": "code",
   "execution_count": 76,
   "metadata": {
    "collapsed": true
   },
   "outputs": [],
   "source": [
    "cuartos_57 = [resultados_octavos[0], resultados_octavos[1]]\n",
    "cuartos_58 = [resultados_octavos[4], resultados_octavos[5]]\n",
    "cuartos_60 = [resultados_octavos[6], resultados_octavos[7]]\n",
    "cuartos_59 = [resultados_octavos[2], resultados_octavos[3]]"
   ]
  },
  {
   "cell_type": "code",
   "execution_count": 77,
   "metadata": {},
   "outputs": [
    {
     "name": "stdout",
     "output_type": "stream",
     "text": [
      "['FRANCIA', 'PORTUGAL']\n",
      "['BRASIL', 'BELGICA']\n",
      "['ALEMANIA', 'INGLATERRA']\n",
      "['ESPANIA', 'CROACIA']\n"
     ]
    }
   ],
   "source": [
    "print(cuartos_57)\n",
    "print(cuartos_58)\n",
    "print(cuartos_60)\n",
    "print(cuartos_59)"
   ]
  },
  {
   "cell_type": "code",
   "execution_count": 78,
   "metadata": {
    "collapsed": true
   },
   "outputs": [],
   "source": [
    "partidos_cuartos = [cuartos_57,\n",
    "                     cuartos_58,\n",
    "                     cuartos_60,\n",
    "                     cuartos_59]\n",
    "\n",
    "resultados_cuartos = []\n",
    "\n",
    "for partido in partidos_cuartos:\n",
    "    resultado = predice_partido_sin_empate(partido)\n",
    "    if resultado[2] == '1':\n",
    "        resultados_cuartos.append(resultado[0])\n",
    "    elif resultado[2] == '-1':\n",
    "        resultados_cuartos.append(resultado[1])\n",
    "    else:\n",
    "        resultados_cuartos.append('EMPATE')\n",
    "    "
   ]
  },
  {
   "cell_type": "code",
   "execution_count": 79,
   "metadata": {},
   "outputs": [
    {
     "data": {
      "text/plain": [
       "['PORTUGAL', 'BRASIL', 'ALEMANIA', 'ESPANIA']"
      ]
     },
     "execution_count": 79,
     "metadata": {},
     "output_type": "execute_result"
    }
   ],
   "source": [
    "resultados_cuartos"
   ]
  },
  {
   "cell_type": "markdown",
   "metadata": {
    "collapsed": true
   },
   "source": [
    "## Semis"
   ]
  },
  {
   "cell_type": "markdown",
   "metadata": {},
   "source": [
    "Martes 10 julio: 20.00 h (18.00 GMT): Ganador 57 - Ganador 58 (61). Zenit Arena San Petersburgo\n",
    "\n",
    "Miércoles 11 julio: 20.00 h (18.00 GMT): Ganador 59 - Ganador 60 (62). Luzhniki Stadium Moscú"
   ]
  },
  {
   "cell_type": "markdown",
   "metadata": {},
   "source": [
    "Los partidos de semis son:"
   ]
  },
  {
   "cell_type": "code",
   "execution_count": 80,
   "metadata": {
    "collapsed": true
   },
   "outputs": [],
   "source": [
    "semis_61 = [resultados_cuartos[0], resultados_cuartos[1]]\n",
    "semis_62 = [resultados_cuartos[2], resultados_cuartos[3]]"
   ]
  },
  {
   "cell_type": "code",
   "execution_count": 81,
   "metadata": {
    "collapsed": true
   },
   "outputs": [],
   "source": [
    "partidos_semis = [semis_61,\n",
    "                  semis_62]\n",
    "\n",
    "resultados_semis = []\n",
    "terc_cuart_puesto = []\n",
    "\n",
    "for partido in partidos_semis:\n",
    "    resultado = predice_partido_sin_empate(partido)\n",
    "    if resultado[2] == '1':\n",
    "        resultados_semis.append(resultado[0])\n",
    "        terc_cuart_puesto.append(resultado[1])\n",
    "    elif resultado[2] == '-1':\n",
    "        resultados_semis.append(resultado[1])\n",
    "        terc_cuart_puesto.append(resultado[0])\n",
    "    else:\n",
    "        resultados_semis.append('EMPATE')\n",
    "    "
   ]
  },
  {
   "cell_type": "code",
   "execution_count": 82,
   "metadata": {},
   "outputs": [
    {
     "data": {
      "text/plain": [
       "['BRASIL', 'ESPANIA']"
      ]
     },
     "execution_count": 82,
     "metadata": {},
     "output_type": "execute_result"
    }
   ],
   "source": [
    "resultados_semis"
   ]
  },
  {
   "cell_type": "code",
   "execution_count": 83,
   "metadata": {},
   "outputs": [
    {
     "data": {
      "text/plain": [
       "['PORTUGAL', 'ALEMANIA']"
      ]
     },
     "execution_count": 83,
     "metadata": {},
     "output_type": "execute_result"
    }
   ],
   "source": [
    "terc_cuart_puesto"
   ]
  },
  {
   "cell_type": "markdown",
   "metadata": {},
   "source": [
    "## Final"
   ]
  },
  {
   "cell_type": "code",
   "execution_count": 84,
   "metadata": {},
   "outputs": [
    {
     "data": {
      "text/plain": [
       "['BRASIL', 'ESPANIA', '1']"
      ]
     },
     "execution_count": 84,
     "metadata": {},
     "output_type": "execute_result"
    }
   ],
   "source": [
    "final = predice_partido_sin_empate(resultados_semis)\n",
    "final"
   ]
  },
  {
   "cell_type": "code",
   "execution_count": 85,
   "metadata": {
    "collapsed": true
   },
   "outputs": [],
   "source": [
    "if final[2] == '1':\n",
    "    ganador_mundial = final[0]\n",
    "    segundo_puesto = final[1]\n",
    "else: \n",
    "    ganador_mundial = final[1]\n",
    "    segundo_puesto = final[0]"
   ]
  },
  {
   "cell_type": "markdown",
   "metadata": {},
   "source": [
    "## Tercer y cuarto puesto"
   ]
  },
  {
   "cell_type": "code",
   "execution_count": 86,
   "metadata": {},
   "outputs": [
    {
     "data": {
      "text/plain": [
       "['PORTUGAL', 'ALEMANIA', '-1']"
      ]
     },
     "execution_count": 86,
     "metadata": {},
     "output_type": "execute_result"
    }
   ],
   "source": [
    "terc_cuart_p = predice_partido_sin_empate(terc_cuart_puesto)\n",
    "terc_cuart_p"
   ]
  },
  {
   "cell_type": "code",
   "execution_count": 87,
   "metadata": {
    "collapsed": true
   },
   "outputs": [],
   "source": [
    "if terc_cuart_p[2] == '1':\n",
    "    tercer_puesto = terc_cuart_p[0]\n",
    "    cuarto_puesto = terc_cuart_p[1]\n",
    "else: \n",
    "    tercer_puesto = terc_cuart_p[1]\n",
    "    cuarto_puesto = terc_cuart_p[0]"
   ]
  },
  {
   "cell_type": "code",
   "execution_count": 88,
   "metadata": {
    "scrolled": true
   },
   "outputs": [
    {
     "name": "stdout",
     "output_type": "stream",
     "text": [
      "El ganador del mundial es: BRASIL \n",
      "El segundo clasificado es: ESPANIA \n",
      "El tercer clasificado es: ALEMANIA \n",
      "El cuarto clasificado es: PORTUGAL \n"
     ]
    }
   ],
   "source": [
    "print(\"El ganador del mundial es: %s \" %ganador_mundial)\n",
    "print(\"El segundo clasificado es: %s \" %segundo_puesto)\n",
    "print(\"El tercer clasificado es: %s \" %tercer_puesto)\n",
    "print(\"El cuarto clasificado es: %s \" %cuarto_puesto)\n",
    "\n"
   ]
  },
  {
   "cell_type": "markdown",
   "metadata": {},
   "source": [
    "# 5. Resultado"
   ]
  },
  {
   "cell_type": "markdown",
   "metadata": {},
   "source": [
    "Para elegir los puestos 8, 16 y 32:\n",
    "\n",
    "* 32: el peor equipo de la fase de grupos. Si hay empates, el que mayor diferencia de promedios tenga respecto al resto de equipos es el peor.\n",
    "\n",
    "**32 clasificado**: **REP. DE COREA**\n",
    "\n",
    "* 16: de los 8 equipos que han perdido en octavos, el que menos puntos tenga en fase de grupos. Si hay empates, el que mayor diferencia de promedios tenga respecto al resto de equipos es el peor.\n",
    "\n",
    "**16 clasificado: EGIPTO**\n",
    "\n",
    "\n",
    "* 8: de los 4 equipos que han perdido en cuartos, el que menos puntos tenga en fase de grupos. Si hay empates, el que mayor diferencia de promedios tenga respecto al resto de equipos es el peor.\n",
    "\n",
    "**8 clasificado: DINAMARCA **\n",
    "\n",
    "**4 clasificado: PORTUGAL **\n",
    "\n",
    "**3 clasificado: ALEMANIA **\n",
    "\n",
    "**2 clasificado: ESPAÑA **\n",
    "\n",
    "**Ganador: BRASIL **"
   ]
  }
 ],
 "metadata": {
  "kernelspec": {
   "display_name": "Python 3",
   "language": "python",
   "name": "python3"
  },
  "language_info": {
   "codemirror_mode": {
    "name": "ipython",
    "version": 3
   },
   "file_extension": ".py",
   "mimetype": "text/x-python",
   "name": "python",
   "nbconvert_exporter": "python",
   "pygments_lexer": "ipython3",
   "version": "3.6.3"
  }
 },
 "nbformat": 4,
 "nbformat_minor": 2
}
